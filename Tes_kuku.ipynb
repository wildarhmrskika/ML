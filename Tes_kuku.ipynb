{
  "cells": [
    {
      "cell_type": "markdown",
      "metadata": {
        "id": "view-in-github",
        "colab_type": "text"
      },
      "source": [
        "<a href=\"https://colab.research.google.com/github/wildarhmrskika/ML/blob/main/Tes_kuku.ipynb\" target=\"_parent\"><img src=\"https://colab.research.google.com/assets/colab-badge.svg\" alt=\"Open In Colab\"/></a>"
      ]
    },
    {
      "cell_type": "code",
      "source": [
        "from google.colab import drive\n",
        "drive.mount('/content/gdrive')\n"
      ],
      "metadata": {
        "colab": {
          "base_uri": "https://localhost:8080/"
        },
        "id": "F_cYrllQmWT6",
        "outputId": "333275fb-3cd8-44ca-a348-3fc72d529ed7"
      },
      "execution_count": null,
      "outputs": [
        {
          "output_type": "stream",
          "name": "stdout",
          "text": [
            "Mounted at /content/gdrive\n"
          ]
        }
      ]
    },
    {
      "cell_type": "code",
      "source": [
        "base_dir = '/content/gdrive/MyDrive/dataset_kuku'\n"
      ],
      "metadata": {
        "id": "MSsPKvxYmjsJ"
      },
      "execution_count": null,
      "outputs": []
    },
    {
      "cell_type": "code",
      "source": [
        "import os\n",
        "print(\"Isi folder:\", os.listdir(base_dir))\n",
        "print(\"Isi folder diabetes:\", os.listdir(f\"{base_dir}/diabetes\"))\n",
        "print(\"Isi folder sehat:\", os.listdir(f\"{base_dir}/sehat\"))\n"
      ],
      "metadata": {
        "colab": {
          "base_uri": "https://localhost:8080/"
        },
        "id": "8q5rlIC8mmdS",
        "outputId": "267f5731-a9a9-44ee-9253-6593f94a414b"
      },
      "execution_count": null,
      "outputs": [
        {
          "output_type": "stream",
          "name": "stdout",
          "text": [
            "Isi folder: ['diabetes', 'sehat']\n",
            "Isi folder diabetes: ['B2_OM-43-_JPG_jpg.rf.fb9ae5f7e726910127c931c0dae48.jpg', 'B1_OM-49-_jpg.rf.5a96073ba0f3d81980e3147eaf715a91..jpg', '9460630_orig_jpg.rf.6cf6909107060318b2e778efd7f74c.jpg', 'B1_OM-39-_jpg.rf.01949f73c02e61cb23d84f69d52f1b70..jpg', 'acute-paronychia-7_jpg.rf.caad872647d9fbc1eaed2855.jpg', 'B2_OM-44-_JPG_jpg.rf.036b23fa004032954133bcfd493b3.jpg', '29_PNG_jpg.rf.d7d6ebfe4063fab7c66b3142ca21d180.jpg.jpg', 'B1_OM-26-_jpg.rf.b962276dfa0f206c6d3b5089a7c19e58..jpg', '9_PNG_jpg.rf.d9a524bd3f0a7bbe7712e969117683fd.jpg.jpg', '12_PNG_jpg.rf.d7ac6abf6c1c333bfde4b6bb449796a6.jpg.jpg', 'B2_OM-47-_JPG_jpg.rf.a0b7ac2b2839cc64ba46588eaab3d.jpg', 'B1_OM-5-_jpg.rf.f79fe76b0d4a8187f0ee9305fc431c42.j.jpg', '775665-figure-9_jpg.rf.cfc897cdae2244a0262b5ca8427.jpg', '300px-Onycholysis_left_hand_34yo_male_ring_and_lit.jpg', '01083_jpg.rf.ce0594d048dc9495c28d3f90e6fe2e41.jpg.jpg', 'B1_OM-35-_jpg.rf.ddf224ab728acf54e0be29005dac20c9..jpg', '23_PNG_jpg.rf.73f45f69d771b24002aaf2fc31e059d1.jpg.jpg', 'B2_OM-54-_JPG_jpg.rf.5fb1b1450358aaab26be27fe4a2f7.jpg', 'B2_OM-26-_JPG_jpg.rf.560bf4db5f209de23b8315af1ba03.jpg', 'B2_OM-56-_JPG_jpg.rf.c51e602e5c48e192e4c40c403cd1f.jpg', 'B1_OM-2-_jpg.rf.8889c85de4fadfc85ab5dfd57fbbc492.j.jpg', '4_PNG_jpg.rf.636f08dd7c1d13bf3ff9a50cb413fc6a.jpg.jpg', 'B2_OM-29-_JPG_jpg.rf.3e2cea8a28696c2ce0697c486bb70.jpg', 'B1_OM-2-_jpg.rf.698c6ee58c56636a12f3b6541f5eed1c.j.jpg', 'acute-paronychia-19_jpg.rf.bec84e6ea4ad942c46d93ba.jpg', 'B2_OM-31-_JPG_jpg.rf.6c2c71e4fa4c15a2fe3acb17abc83.jpg', 'B2_OM-10-_JPG_jpg.rf.55c52dfb2eac5ce5d2f1d7b044428.jpg', 'B2_OM-63-_JPG_jpg.rf.7457365b9a0c82c286aec081577f5.jpg', 'B1_OM-33-_jpg.rf.eaa8f5b41a96b21a49d077fb62b77ce1..jpg', 'B2_OM-52-_JPG_jpg.rf.0d36a5e1f6ee4837afaa58e5b17b7.jpg', 'B2_OM-46-_JPG_jpg.rf.666b238adc7434fb5a338683add90.jpg', 'B2_OM-62-_JPG_jpg.rf.d7055b7107ca2eb1b6c4d143f9f18.jpg', 'B2_OM-33-_JPG_jpg.rf.9491d98cb77a7dd0e5ead00a83d32.jpg', 'B1_OM-43-_jpg.rf.08cdfa61f4e5654fca140f01c15801d9..jpg', 'B2_OM-42-_JPG_jpg.rf.06410dadb1928a94b4e5f0d4833fd.jpg', 'B1_OM-34-_jpg.rf.c3880e7b4840f973d6f94ce71855efb0..jpg', 'B2_OM-60-_JPG_jpg.rf.e1c54ff4a48dc53871cad87c8b9ce.jpg', 'B2_OM-100-_JPG_jpg.rf.e6d64c02cb645e504068f75ff12b.jpg', 'B2_OM-16-_JPG_jpg.rf.5ce48974bde547e357b6879d58618.jpg', 'B1_OM-3-_jpg.rf.e78ea347b232f02f08c2c39c9983667c.j.jpg', 'B2_OM-59-_JPG_jpg.rf.0b15956fbcec720e254a7a24d5c46.jpg', 'B1_OM-35-_jpg.rf.d4d4bcf886a434a173b39ef52499dd7c..jpg', 'B1_OM-23-_jpg.rf.de2c796fdffccc4937a30615cd7315da..jpg', 'B2_OM-3-_JPG_jpg.rf.bdf17cb2bd00ff5f479ed0fad7ac2e.jpg', 'B2_OM-25-_JPG_jpg.rf.cd8f8957881d95d47f1f285adbca2.jpg', 'B2_OM-37-_JPG_jpg.rf.450119955a22646976afb6c298e6a.jpg', 'B2_OM-55-_JPG_jpg.rf.c68232ff4b774a6a5fd5ad97fde45.jpg', 'B1_OM-15-_jpg.rf.54d586f69dc076b179250c3bf2475bfd..jpg', 'B2_OM-14-_JPG_jpg.rf.5420b5d15b1fd66a7a903f381e8a6 (1).jpg', '62342tn_jpg.rf.61945003a7b025750eaa80182935a0fa.jp.jpg', '1_jpg.rf.b6c26a651129a1f94d3296dd7eea8fe0.jpg.jpg', 'B2_OM-37-_JPG_jpg.rf.c7502a18927b7fd47c45c4c239334.jpg', 'B2_OM-31-_JPG_jpg.rf.514459ac98b9e517fa2b3d2ee0429.jpg', 'B2_OM-48-_JPG_jpg.rf.128a8e13b3dd585306d9307c0313d.jpg', 'acute-paronychia-9_jpg.rf.59b1a5e69b55ec921e5bc820.jpg', 'B1_OM-30-_jpg.rf.7209b68a97446adc5088b4ab81c2079c..jpg', 'B1_OM-1-_jpg.rf.e5801e68e341dd673b7a948cd9818612.j.jpg', '2317_1_jpg.rf.51e744d9e83dfbde74f5b336fe2c2798.jpg.jpg', '440px-HEMORRHAGESUBUNG1_JPG_jpg.rf.c4483eca2a9c6ba.jpg', 'B1_OM-41-_jpg.rf.e66aaa8002d30ee1067e304c0bb748b6..jpg', 'B2_OM-56-_JPG_jpg.rf.723d8c709b5390c644cebc99b275d.jpg', '16211Onycholysis_jpg.rf.eb964db7494e06ff882569c1c2.jpg', 'B1_OM-37-_jpg.rf.6a30dbe743af7c0c8e1d984aa71ae8cf..jpg', 'B2_OM-30-_JPG_jpg.rf.6e40a7366a756697c5e70e26670b6.jpg', '992f977010f0d4fb056425c7e20f1cf9_jpg.rf.d580b79ef0.jpg', 'B2_OM-12-_JPG_jpg.rf.737c6a49fd1c147fb073c815d3cbb (1).jpg', 'acute-paronychia-4_jpg.rf.032032af059c86493393a8ba.jpg', 'B2_OM-51-_JPG_jpg.rf.5a1444b4fb624f40c39aea2c57b19.jpg', 'B1_OM-34-_jpg.rf.4eee0079daca2ad2123f551c27b21433..jpg', 'B2_OM-66-_JPG_jpg.rf.a586b88bdbb4c386be761af52ea74.jpg', 'B2_OM-51-_JPG_jpg.rf.c3454c0055ade1a0b8148ef46b858.jpg', 'B2_OM-14-_JPG_jpg.rf.5420b5d15b1fd66a7a903f381e8a6.jpg', 'B1_OM-38-_jpg.rf.5f58213360f30bc4d7391fdddc3607f4..jpg', 'B1_OM-21-_jpg.rf.594039e3414252df8319751ce8168390..jpg', '_jpg.rf.1192e54f8ca44105943226befb8fffb4.jpg.jpg', 'B1_OM-26-_jpg.rf.e51fde32e934b3d9440b8829807c0b2a..jpg', 'B2_OM-47-_JPG_jpg.rf.e4a21ee34f366d33761df9555e9b7.jpg', 'B1_OM-13-_jpg.rf.d7150f36a67b6aae82b6ed05ed697c2d..jpg', 'B1_OM-20-_jpg.rf.dc2ddaf33df4cc699bab62d5ef423e41..jpg', 'B2_OM-11-_JPG_jpg.rf.e6c87f4a5c3675865309fc39681d9 (1).jpg', 'B1_OM-13-_jpg.rf.d075ccb301af49dbe6fd80c0f8e2b47f..jpg', 'B1_OM-6-_jpg.rf.ddd04e15920c8b080a25a33b99042f47.j.jpg', '4_PNG_jpg.rf.598876a0eb5277f300ac2687b52cbbe7.jpg.jpg', 'B1_OM-6-_jpg.rf.e04dec8ec967a314c1eb9cb5047875fb.j.jpg', 'B1_OM-36-_jpg.rf.75159f2b54d46453102e30807285c8de..jpg', 'B2_OM-18-_JPG_jpg.rf.1010a6124e900403fc23e2a7c6833.jpg', 'B2_OM-4-_JPG_jpg.rf.6afc363b52f0a421bcaf80623ad33c.jpg', 'B1_OM-33-_jpg.rf.0d8e423fd4164fd7170c2a63bc9c6b3f..jpg', 'B1_OM-45-_jpg.rf.870defc1081f8a88cb5846161b68c963..jpg', 'B2_OM-23-_JPG_jpg.rf.5b042c79d2042301e6cd3be2b1a7a.jpg', 'B1_OM-42-_jpg.rf.663b79d7c79e997f882c38a172fb282a..jpg', 'B2_OM-63-_JPG_jpg.rf.cd551ce6506c0c4ee44bc23b0eb85.jpg', 'B1_OM-15-_jpg.rf.eac69bd58568d0b308fa5f467fedc841..jpg', 'B2_OM-24-_JPG_jpg.rf.de8be3593c8f94c960fc3e1fbaf97.jpg', 'B1_OM-27-_jpg.rf.e20470ed6ff32c4698f9b5b303cff1cf..jpg', 'B2_OM-44-_JPG_jpg.rf.bde5fa9d50f7833f20cce6691ba31.jpg', 'B1_OM-50-_jpg.rf.543d879a6fd07c254293ff7e3037b38f..jpg', 'B1_OM-38-_jpg.rf.db314a6dfc769aa32b1bd2d647554857..jpg', 'B2_OM-65-_JPG_jpg.rf.bff5ca377fa3ea77e93536eef3ca2.jpg', 'B2_OM-55-_JPG_jpg.rf.e5b4e9939b5ae44bb3dfe24e206e2.jpg', 'B2_OM-59-_JPG_jpg.rf.5aaa099b5089f5360ba45f81f9894.jpg', 'acute-paronychia-18_jpg.rf.e7ef9d025e6e52744eec596.jpg', 'acute-paronychia-26_jpg.rf.737c2ea3b52d23329f24d09.jpg', 'B2_OM-13-_JPG_jpg.rf.ddaf1b4647ecb2191ef73a7dccd9b (1).jpg', '602d78892b726fcdef93b8b4723390a1_jpg.rf.7505935bb8.jpg', 'B2_OM-13-_JPG_jpg.rf.ddaf1b4647ecb2191ef73a7dccd9b.jpg', 'B2_OM-43-_JPG_jpg.rf.e8379f336dd17439b8a7413ecbe52.jpg', 'B2_OM-55-_JPG_jpg.rf.d30be9555343d7614a1de77d4d68a.jpg', 'B1_OM-12-_jpg.rf.6ea9135f22536751475278eb830e28aa..jpg', '36_PNG_jpg.rf.ba4d2b13fc51f2c0450efeab998a2047.jpg.jpg', 'B1_OM-28-_jpg.rf.db412f9e9c0c39cf26d227d5a5a9ca1a..jpg', '3_PNG_jpg.rf.c51bd13376ce47994ea1a9eaa64327b5.jpg.jpg', '4_jpg.rf.60f0598fb33754c5270e2b15cd5cba5a.jpg.jpg', 'B1_OM-14-_jpg.rf.be9b1cca66807cce8c765e89a18d21f9..jpg', 'acute-paronychia-3_jpg.rf.e4b55101bccb9129d4954475.jpg', '642x361_SLIDE_6_Nail_Abnormalities_jpg.rf.2ad2ff24.jpg', 'B2_OM-60-_JPG_jpg.rf.5014c98acd6de0e29f600a60e4aa7.jpg', 'B2_OM-2-_JPG_jpg.rf.8995ee752706e1d67c96d9e87d4e13.jpg', 'B1_OM-38-_jpg.rf.d393dc017cef8e58f946a72cb972bc61..jpg', '3_jpg.rf.e06fe025a286abcf1e28059a5f4dadaa.jpg.jpg', 'alopecia-areata-1_jpg.rf.3267f75b5daee0935578d3406.jpg', 'B2_OM-5-_JPG_jpg.rf.675988a9c744b6365bc52db6d3b86e.jpg', 'B1_OM-29-_jpg.rf.e15aa4fcd8e55cf80675ab47ab70854d..jpg', 'B1_OM-39-_jpg.rf.c76d91718aab9d2a9a683766995a79dd..jpg', 'B1_OM-40-_jpg.rf.d85f2a59ae09df248d1b9e23e1ab4f0f..jpg', 'B2_OM-49-_JPG_jpg.rf.9a229236eb30af8d23a57c87f626d.jpg', 'B1_OM-31-_jpg.rf.dffa370d81f2ccebb4f243bea3596787..jpg', '026245HB_JPG_jpg.rf.0c80809d4cf0539798a6d294d53cbf.jpg', 'B2_OM-14-_JPG_jpg.rf.c6169c33489bddedf3b422c69ebce (1).jpg', '5_jpg.rf.54188d599cd626dd0a7b80d05eaf1b18.jpg.jpg', 'B1_OM-20-_jpg.rf.d9af0c186b437eea6d399ad46b728336..jpg', 'B2_OM-39-_JPG_jpg.rf.e38428dc0175c25068305122696e7.jpg', 'B1_OM-45-_jpg.rf.5a5d8f4b307d9b4c44dc1fb0644139c4..jpg', '9_PNG_jpg.rf.d32ea1f7f0a6261d153ec54b011309be.jpg.jpg', 'B1_OM-10-_jpg.rf.4f31739ba47c543249235e9af157b898..jpg', 'B2_OM-18-_JPG_jpg.rf.cddfe9d46911f79a5dc9fb166bdaf.jpg', 'acute-paronychia-17_jpg.rf.e245c899cc95d9bb8a04148.jpg', 'B2_OM-52-_JPG_jpg.rf.f17334239071263d760172c4b1f91.jpg', 'B2_OM-32-_JPG_jpg.rf.d801a1e87ca66846751fd22fa115f.jpg', 'B2_OM-30-_JPG_jpg.rf.eda6f7ea4ce426ca81159162d6e53.jpg', 'B2_OM-33-_JPG_jpg.rf.ee9c41c8a825151a673ab8caa8cfc.jpg', 'B2_OM-65-_JPG_jpg.rf.027660905572dbeed0e4c196b2a3b.jpg', '775665-figure-10_jpg.rf.d41b3d8e43bda2e1ed03abb98c.jpg', 'B2_OM-62-_JPG_jpg.rf.c42e4bb876a8efa0a41bdff24edd5.jpg', 'B1_OM-10-_jpg.rf.d081e20bd1f205b7379b51d9f55111ac..jpg', 'B2_OM-13-_JPG_jpg.rf.c5c6aa821fcd3dfafae19239a7549 (1).jpg', 'B1_OM-9-_jpg.rf.2e6bdd8f2a8e7ffaab35080d68cde94e.j.jpg', 'B1_OM-40-_jpg.rf.1c7525b1c5bebc60d64b7223d6210048..jpg', 'B2_OM-12-_JPG_jpg.rf.737c6a49fd1c147fb073c815d3cbb.jpg', 'B1_OM-8-_jpg.rf.ebb2005585c1d4b6636d685c09d4cad2.j.jpg', 'B2_OM-38-_JPG_jpg.rf.6c22817a9007d1a6cab4ab2433bd9.jpg', '775665-figure-6_jpg.rf.c5582e86ad42fe11002c8436fcd.jpg', '5109c523973bee533552f88a0c44bd7a_jpg.rf.03a62fa4e3.jpg', 'B2_OM-46-_JPG_jpg.rf.c6b34bd819c57a5d5793ddaf4e60d.jpg', 'B2_OM-18-_JPG_jpg.rf.6ad8d94cc5756e92d07012f2b2663.jpg', 'B2_OM-14-_JPG_jpg.rf.c6169c33489bddedf3b422c69ebce.jpg', 'B2_OM-32-_JPG_jpg.rf.ee8567cb32b258b8f0ee500072492.jpg', 'B2_OM-13-_JPG_jpg.rf.c5c6aa821fcd3dfafae19239a7549.jpg', 'B1_OM-17-_jpg.rf.0618a1f65cc8cf5dd3742fa94dd73427..jpg', 'B2_OM-56-_JPG_jpg.rf.ddd37f1f62f19e219d6fbfc307c41.jpg', 'B2_OM-46-_JPG_jpg.rf.caa49b2f751dba0dd0e9661ca92ff.jpg', 'B1_OM-37-_jpg.rf.94b8f1d56de26f78166eeeff96f2adc2..jpg', 'B1_OM-21-_jpg.rf.555f97591e46b03f2c394f4010292723..jpg', '190_th_51-onycholysis-06_jpg.rf.69499e64eb4a1e4d85.jpg', 'acute-paronychia-15_jpg.rf.e149de151c43f204f3aa866.jpg', 'B1_OM-2-_jpg.rf.e675077d4b53a2daa325972129d9e5e2.j.jpg', 'B2_OM-50-_JPG_jpg.rf.02ec9be4fda5d39a9423836b56ec3.jpg', 'B1_OM-42-_jpg.rf.de289b0d6d584f134f4096699a7806d4..jpg', 'B2_OM-11-_JPG_jpg.rf.e6c87f4a5c3675865309fc39681d9.jpg', 'B2_OM-43-_JPG_jpg.rf.69d4aa44b58813da711cbacf2cca3.jpg', '026216HB_JPG_jpg.rf.c6c332c071c2037cec1be9f10a6167.jpg', 'B2_OM-62-_JPG_jpg.rf.5f2636def330a6f8164f0dd7fabc5.jpg', 'B2_OM-58-_JPG_jpg.rf.5c39c9f0fd7a7c2559d5de168b64d.jpg', 'B2_OM-48-_JPG_jpg.rf.fb7971c66d532c4bf9f31abe3cd05.jpg', 'B2_OM-24-_JPG_jpg.rf.d80766fca8dce279afede9890fb9e.jpg', 'B2_OM-38-_JPG_jpg.rf.cbf6305fd2737984fbdcb317fc419.jpg', 'B2_OM-10-_JPG_jpg.rf.d20d2ad6cf5b38afa552faaee6e20.jpg', 'B2_OM-41-_JPG_jpg.rf.d2b64f46c35f9dc5d6701fe43590a.jpg', 'B1_OM-37-_jpg.rf.3467d31297443a6bc153e54b9c8a6f65..jpg', 'B1_OM-25-_jpg.rf.f4b451dd725e5216535256c17ae0858c..jpg', 'B2_OM-47-_JPG_jpg.rf.a0124f9032afe8016d32f2b0bc63c.jpg', 'B1_OM-44-_jpg.rf.c72f721ea04e44fdab541b8d6e7dc633..jpg', '1_PNG_jpg.rf.52087bfd1c4a946e4ec7d7959fc20e8e.jpg.jpg', 'B2_OM-17-_JPG_jpg.rf.6277590b620dca7fbf7bb4569a2c1.jpg', '000491HB_JPG_jpg.rf.d23371cf5234195bed0d65a36e7118.jpg', 'acute-paronychia-5_jpg.rf.c64ab7eb3c819619479905fd.jpg', 'B1_OM-16-_jpg.rf.51b142584fbce1a28c2f4555cfec2247..jpg', '025621HB_JPG_jpg.rf.69d0bcbab3eb418db673cb41e5c5e6.jpg', 'B2_OM-42-_JPG_jpg.rf.f6dd33e04c50dd4be642725af2bf1.jpg', 'B1_OM-13-_jpg.rf.f9fdcf8c0eb746496bad43da0664564a..jpg', 'B2_OM-57-_JPG_jpg.rf.a2032f034452e0bf35431e8848d38.jpg', 'acute-paronychia-13_jpg.rf.c5c31bb1313413a5657dd57.jpg', 'B2_OM-15-_JPG_jpg.rf.fb5c11648a6ee8d4e26b10f06f3cf.jpg', 'B1_OM-46-_jpg.rf.d7fa3f8615d2f40b83bd652d2d9283c1..jpg', 'B2_OM-53-_JPG_jpg.rf.ea7e6ae44c42e1726be2df18a021e.jpg', 'B2_OM-53-_JPG_jpg.rf.e1f9d7a236508aa08303ff5cbb2d7.jpg', 'B1_OM-47-_jpg.rf.21e22cba0a770505b66394c6d553fbe5..jpg', 'B1_OM-6-_jpg.rf.ced4768f9909f558455c0bb350e96eda.j.jpg', '43_PNG_jpg.rf.efac253c3b48bdf50ed9b47b8579306b.jpg.jpg', 'B2_OM-11-_JPG_jpg.rf.6667892493673393c78e8fbffbf06.jpg', 'B2_OM-42-_JPG_jpg.rf.fbe669faf85d66671de10f69d65a5.jpg', 'B1_OM-40-_jpg.rf.fe67bd32374093968c890aa07d257ff5..jpg', 'B1_OM-7-_jpg.rf.1c551372b01c6387b761c74875dec388.j.jpg', 'B2_OM-57-_JPG_jpg.rf.fac2b1b596a67d153cede22131429.jpg', 'B1_OM-30-_jpg.rf.8e8017caf7036a965e950f384c81d056..jpg', 'B1_OM-3-_jpg.rf.431c85e2555887d405aea697c06f974f.j.jpg', 'B1_OM-23-_jpg.rf.29a99e3b3c18ff46af7d1982313b8f28..jpg', 'B2_OM-15-_JPG_jpg.rf.3337e8bf94917e64eb424bb9e9d38.jpg', 'B2_OM-64-_JPG_jpg.rf.2aa384dbd51546dd58f8b9001c0cf.jpg', 'B2_OM-34-_JPG_jpg.rf.0706925eb01c0aaa7361d5a85de06.jpg', 'acute-paronychia-6_jpg.rf.3283ffe9bf7cad5d2fd2147e.jpg', 'B1_OM-29-_jpg.rf.4886415fb1e90c6a684687f9078b3bf7..jpg', 'B2_OM-57-_JPG_jpg.rf.421ef8562929e1d2613a93f267684.jpg', 'B2_OM-14-_JPG_jpg.rf.8144eafa2c295dedb9375db41571a (1).jpg', '20204673584eb7355461186_jpg.rf.8a267648b88b6a72766.jpg', 'acute-paronychia-25_jpg.rf.ba6119f42552b90c0d0bd9e.jpg', 'B1_OM-46-_jpg.rf.7d53c183fab2da184da9a9339d446f2c..jpg', 'B2_OM-12-_JPG_jpg.rf.4dbead230a5405fa571fae5a00f14 (1).jpg', '567_1_jpg.rf.a6512779920b328e617abd79d79d8c1a.jpg.jpg', '12_jpg.rf.29d838b7c1e0f81526bfd3c84b2eeb1c.jpg.jpg', 'B1_OM-43-_jpg.rf.abdf05a0bb6136eacf03b163518ff278..jpg', 'B1_OM-41-_jpg.rf.48cc7aa6c6506d39865751be3f20728d..jpg', 'B2_OM-12-_JPG_jpg.rf.a3c2f17218e0a2ab1b9a5c6df8be8 (1).jpg', 'acute-paronychia-21_jpg.rf.2889276c6eacd6b3f06cf79.jpg', 'B2_OM-45-_JPG_jpg.rf.928abcf18019760f86a6f1adef49c.jpg', 'B2_OM-20-_JPG_jpg.rf.bacc40717d648367712203967ff9a.jpg', '24_PNG_jpg.rf.24618f916ba6a72e884300d998e3fc1a.jpg.jpg', 'B2_OM-61-_JPG_jpg.rf.1ae09a7e0ce526335515cfec106e7.jpg', 'B2_OM-10-_JPG_jpg.rf.48d38a7f444aea342282df4553fb8.jpg', 'B1_OM-14-_jpg.rf.89a41b98b5fcf392af62735e32384ff5..jpg', 'B2_OM-67-_JPG_jpg.rf.a4d278a3a5987157a52590989d7fe.jpg', 'B2_OM-38-_JPG_jpg.rf.f4a3367138d0bcc35d713e31381bf.jpg', 'B2_OM-33-_JPG_jpg.rf.32029bc756e478f3c8a5c8c0d5934.jpg', 'B2_OM-37-_JPG_jpg.rf.09965cb932dff3c35552c331db64e.jpg', '775665-figure-7_jpg.rf.83296ed8cc21cc29c5afaf4c368.jpg', 'B2_OM-39-_JPG_jpg.rf.7787b7851725201507580898afdfb.jpg', 'B1_OM-7-_jpg.rf.467e70d92fd5202f030a7aed0714365f.j.jpg', 'B1_OM-43-_jpg.rf.330bb44ff94fcb68354e67f671056922..jpg', 'B2_OM-29-_JPG_jpg.rf.b1766a5d2c57a2e6cb561b85914e1.jpg', 'acute-paronychia-2_jpg.rf.2a8756dfff8c811c81de6ecc.jpg', 'B2_OM-54-_JPG_jpg.rf.26b526bea49460bdcf2c642d2f2a1.jpg', 'B2_OM-24-_JPG_jpg.rf.99caa8caf0deec773081e122bf05e.jpg', 'B2_OM-32-_JPG_jpg.rf.f618738dcd437eb5d78638f12c27b.jpg', 'B1_OM-11-_jpg.rf.b06ba49bc4d6a3401c353800bf296566..jpg', 'B2_OM-20-_JPG_jpg.rf.24e4ada5bcae8ad33853d752c5423.jpg', 'B1_OM-25-_jpg.rf.854fdaec54c658d8bd77a9daaa58df87..jpg', 'B1_OM-10-_jpg.rf.f9edcdd275536afa213faad9841d2ab3..jpg', 'B1_OM-32-_jpg.rf.8a460c4054e434fe180ca5eb4b489220..jpg', 'B2_OM-17-_JPG_jpg.rf.a8427f062bf70e12c60197d601593.jpg', 'B1_OM-18-_jpg.rf.4d8f937c274c8d657bc4050cb63c2575..jpg', 'B1_OM-9-_jpg.rf.4712c05660da6a300de6560738301b52.j.jpg', 'B2_OM-61-_JPG_jpg.rf.f6e6352cf27ae7a884a20f64b67a8.jpg', 'B2_OM-39-_JPG_jpg.rf.89710366cdb4bb9fe494b47519df9.jpg', 'B2_OM-14-_JPG_jpg.rf.8144eafa2c295dedb9375db41571a.jpg', 'B2_OM-28-_JPG_jpg.rf.3c858e7e1de33dd29f28ae093214a.jpg', 'acute-paronychia-16_jpg.rf.2652c8d16bb69ec05c545ea.jpg', '026250VB_JPG_jpg.rf.a6bfd4dc952e15aa6f164187e2b4cf.jpg', 'B2_OM-50-_JPG_jpg.rf.7bcf7d9368d0b536beb5f057b37c2.jpg', 'B2_OM-27-_JPG_jpg.rf.9d74a0790bafb2f1f61d8e8f16867.jpg', 'B2_OM-66-_JPG_jpg.rf.ad5d3c8ed029adc3f4d2118603168.jpg', 'B1_OM-37-_jpg.rf.164d6a0bbd6a8dc6ad5d30462fc1900e..jpg', 'B2_OM-45-_JPG_jpg.rf.8db320e9195a54338158bf0f43152.jpg', '026252VB_JPG_jpg.rf.8e95b245657be9336c09be5e9bfd25.jpg', 'B2_OM-64-_JPG_jpg.rf.2775a7cc076054be105a741b6d9d1.jpg', 'acute-paronychia-23_jpg.rf.200fd7a8e7f401de7e56169.jpg', 'B1_OM-48-_jpg.rf.7edd89457e2cc295d3b7708f984c5cc2..jpg', '294_jpg.rf.3ffd95635d0c420e673c6e9d52959a96.jpg.jpg', 'B2_OM-22-_JPG_jpg.rf.6b22ccfa10b79cf089d808d89d538.jpg', 'B2_OM-2-_JPG_jpg.rf.f47c356a6f16c2711affb369b1718e.jpg', 'B2_OM-28-_JPG_jpg.rf.b8abda807a339f029223aa4b3b1cd.jpg', 'B2_OM-64-_JPG_jpg.rf.75848cab66de9807c6f8bdb4b7cf8.jpg', 'B1_OM-25-_jpg.rf.6eff221c3e90c54fb6265e8024e0b834..jpg', 'alopecia-areata-nailsalopecia-universalis-with-twe.jpg', 'B1_OM-36-_jpg.rf.3c7debd536af7e430eff823880ec2f1e..jpg', 'B2_OM-65-_JPG_jpg.rf.2fb065c58bce93b71c5a7d2781a23.jpg', 'B2_OM-27-_JPG_jpg.rf.51bcc728902719a2e144a574575af.jpg', 'B2_OM-20-_JPG_jpg.rf.75dc0ddf2bc1647fd6b435fa19273.jpg', 'B2_OM-16-_JPG_jpg.rf.f4eef56be4302cd7beb3acd12c80f.jpg', 'B2_OM-48-_JPG_jpg.rf.0e39b28ddcdb6b9e7ba651b396e8d.jpg', 'B1_OM-39-_jpg.rf.3151f730d8e8bab39ee016629b8e374a..jpg', 'B1_OM-33-_jpg.rf.4ab3e37c420cd9e1365bc070243aee70..jpg', 'B2_OM-21-_JPG_jpg.rf.489b68ab931af893fafcfe726e9b5.jpg', 'B2_OM-44-_JPG_jpg.rf.b96b7190bc375eec1679e9dec44e6.jpg', 'acute-paronychia-24_jpg.rf.bbd692e2b9abf57777f166a.jpg', 'B1_OM-50-_jpg.rf.19547d9bb77ce24887f880f42aa271f3..jpg', 'acute-paronychia-1_jpg.rf.3727e6ca859b45163beb8826.jpg', '5-40_jpg.rf.186bc220bb64a650c61735dd547867ea.jpg.jpg', '18_PNG_jpg.rf.1366fc631b5fb03c6bd818226aae3ba4.jpg.jpg', '3-226_jpg.rf.582ce13667cc73174e62c2c999650aad.jpg.jpg', 'B2_OM-27-_JPG_jpg.rf.8d4674f619ebe5ac18670ff54e14d.jpg', '8081_12_122-photo-onycholysis_jpg.rf.072f816599fa8.jpg', 'B1_OM-41-_jpg.rf.1c9c394c4b50ceb0970c967110614a13..jpg', 'B1_OM-22-_jpg.rf.13a685d6e38d20028cbc94ff0baa0422..jpg', '7_PNG_jpg.rf.f7defb3d5fd469316c2544cec62fc40b.jpg.jpg', '174-5_psoriasis-nail-onycholysis_jpg.rf.237a9b46e7.jpg', 'B2_OM-11-_JPG_jpg.rf.3c5098e7edf4c6a6357ad3a1dc81f.jpg', 'B1_OM-42-_jpg.rf.3db24714dc5b9fa052ad40a2527055cb..jpg', 'B2_OM-17-_JPG_jpg.rf.9da88f3ee9bb945fd619c8c21bdc6.jpg', 'B2_OM-22-_JPG_jpg.rf.91acd42ce85e015be40803e29501b.jpg', 'B2_OM-35-_JPG_jpg.rf.4804cd27da5e2da42670119f37135.jpg', 'B2_OM-45-_JPG_jpg.rf.7c91597f90e2a24921124bf37f649.jpg', 'B1_OM-48-_jpg.rf.95db185a609717e2ccc3d3af652b0774..jpg', '73302fa39ae1e2ce8559e01055df966f_jpg.rf.b32e6742e3.jpg', 'B2_OM-100-_JPG_jpg.rf.40eb295cff6a947d731771929fb8.jpg', 'B2_OM-19-_JPG_jpg.rf.2dfec38124e11cd9393a4e4b46a64.jpg', 'B1_OM-7-_jpg.rf.f8488526121029b50ca9b5226e04846b.j.jpg', 'B1_OM-26-_jpg.rf.852cda141c7b70beee1567d3397e7523..jpg', 'semisuper_2116_1038_565_1382_909_MelanomaInSituMIS.jpg', 'B2_OM-12-_JPG_jpg.rf.4dbead230a5405fa571fae5a00f14.jpg', 'B2_OM-11-_JPG_jpg.rf.b4cc2c4283bf84c21170462091aaa.jpg', 'B1_OM-26-_jpg.rf.ad50cb9bd9f4f47e4d551576020f862a..jpg', 'B1_OM-19-_jpg.rf.104a9a299942680d2890d1e22cfa0ce6..jpg', 'B2_OM-25-_JPG_jpg.rf.1f2283aa5fb8fd2e21bc3e2d899fd.jpg', '567_2_jpg.rf.14d78406131c286b99ee520066aad199.jpg.jpg', 'B2_OM-6-_JPG_jpg.rf.55bf8a3ca2a707bf847abb72e22593.jpg', '040414HB_JPG_jpg.rf.1569aa6251efd1288c5e048c4f3d4d.jpg', 'B2_OM-13-_JPG_jpg.rf.17751b18cf6c00d18208152f15ac3 (1).jpg', 'B1_OM-31-_jpg.rf.1dc47b62e9225991cf5b7860d8312003..jpg', 'B2_OM-11-_JPG_jpg.rf.bd5a6e7b80aa9a82cf0181872c644.jpg', 'B1_OM-24-_jpg.rf.b41fad33f70d0094fb4589f39cbd96b2..jpg', 'B1_OM-29-_jpg.rf.449da25c3ae2ab49fe9767af739f926b..jpg', 'B1_OM-9-_jpg.rf.39944fb4a7e9374f45911643cc92af21.j.jpg', 'B2_OM-49-_JPG_jpg.rf.364afd2cd21b557c439a412d64ab0.jpg', 'B1_OM-12-_jpg.rf.37487cc2f9fc70643b8fba55b4b52fdb..jpg', 'B2_OM-21-_JPG_jpg.rf.3ea909ce47afdbe591442e0646abd.jpg', 'B1_OM-27-_jpg.rf.80b28bc4e2d7e11f69eceb628041954e..jpg', 'B2_OM-19-_JPG_jpg.rf.4789a0793e7c79cfe0de081844f10.jpg', '62341tn_jpg.rf.66a14195fee29508b344b3b82a762a62.jp.jpg', 'B2_OM-1-_JPG_jpg.rf.a2a1da12b3aedf3372b625c549f248.jpg', 'B2_OM-22-_JPG_jpg.rf.49661edfd13567e01991cf0d37a86.jpg', '28812tn_jpg.rf.bd4af71a2e8b357d878d60d67ff1998b.jp.jpg', 'B2_OM-15-_JPG_jpg.rf.7c551966a187032811918ff6ed0ac.jpg', 'B2_OM-40-_JPG_jpg.rf.b436745680703a4afcb59837fc783.jpg', '144272522_jpg.rf.4efa2d65b301e426e347174cb9f7286a..jpg', 'B1_OM-1-_jpg.rf.fd82510d647731a1b6398f9800e59692.j.jpg', 'B1_OM-3-_jpg.rf.18033e7a7a1938c53a2289b74f3df255.j.jpg', 'B2_OM-26-_JPG_jpg.rf.9f02098708a998b38d1d375609eb0.jpg', 'B2_OM-60-_JPG_jpg.rf.8b6c21edf3cf551d3c51e79fcab23.jpg', 'B2_OM-53-_JPG_jpg.rf.48d5b9ee9d78a2440279eb053a562.jpg', 'acute-paronychia-12_jpg.rf.29cda322e47409fc411c79f.jpg', 'B1_OM-34-_jpg.rf.1f3de53549f5b601ee06775dc74f9675..jpg', 'B2_OM-52-_JPG_jpg.rf.2302ecbcae34487a8af2bc58f3c07.jpg', 'B1_OM-15-_jpg.rf.1bd67d18ff7a00e9a21f3bdcf461b624..jpg', 'B1_OM-23-_jpg.rf.a7727618b5cdfd1a10ff5f1d47bbf485..jpg', '42_PNG_jpg.rf.766dee434ee9b34ea8dba497b376efaf.jpg.jpg', 'B2_OM-13-_JPG_jpg.rf.17751b18cf6c00d18208152f15ac3.jpg', '1022px-Onycholysis_right_hand_34yo_male_ring_and_l.jpg', 'B1_OM-17-_jpg.rf.334fa86f5c73ce7b11fd84815c2c9ce6..jpg', 'B2_OM-28-_JPG_jpg.rf.7edc0a23cd462c755bcee4701fa78.jpg', 'B2_OM-50-_JPG_jpg.rf.ab2a356a8b8a329bd77da888b711c.jpg', 'B1_OM-35-_jpg.rf.4dabb4855ed88861e92781c5bf004122..jpg', 'B2_OM-1-_JPG_jpg.rf.9cc61ce249bd77de1fca1d11581d4f.jpg', 'acute-paronychia-14_jpg.rf.34555d927fefe281b24b63d.jpg', 'acute-paronychia-28_jpg.rf.140378061a9a6c4937c414b.jpg', '32_PNG_jpg.rf.2f9f8594ce83dc5c5ed406374b50710f.jpg.jpg', 'B2_OM-36-_JPG_jpg.rf.9d327e8ca3623f84020a69ccaa405.jpg', 'acute-paronychia-11_jpg.rf.a88cd6bc2bdd49a5c9032be.jpg', '41_PNG_jpg.rf.8a3f9a086722e4c592d91302468924f5.jpg.jpg', 'B2_OM-59-_JPG_jpg.rf.86223f216db4ae49e4bfd59eff9a1.jpg', 'B1_OM-21-_jpg.rf.6e6aaa1e5d74c8f455f89d4437299e19..jpg', 'B2_OM-12-_JPG_jpg.rf.a3c2f17218e0a2ab1b9a5c6df8be8.jpg', 'B2_OM-66-_JPG_jpg.rf.8aa292fd27eb6585d0d18c1b9a6c2.jpg', 'B2_OM-21-_JPG_jpg.rf.f3506fedc38c4723c2640424d4809.jpg', 'B2_OM-1-_JPG_jpg.rf.894c8e3c8eda6cf92750d571669e08.jpg', 'B2_OM-54-_JPG_jpg.rf.13774c2148e13b5f1fb2516d26367.jpg', 'acute-paronychia-8_jpg.rf.2266136a6e620fffe383bc20.jpg', 'B1_OM-30-_jpg.rf.253e8c2f24f15e2aef7f6e6677cdb58e..jpg', 'B1_OM-12-_jpg.rf.2dcad60e00f7663aed22711b8c9e68e0..jpg', 'B2_OM-11-_JPG_jpg.rf.b080c8bd21fc2414276602aa0580e.jpg', 'B2_OM-30-_JPG_jpg.rf.10eb84c72a63d08ba7f76cdae094b.jpg', '15_PNG_jpg.rf.967466c1b6479e3713e625aad62623cd.jpg.jpg', 'B1_OM-7-_jpg.rf.34c366f01a24ad27e5dc2176d6a94f42.j.jpg', '1_PNG_jpg.rf.a0fffa9f04f6dac130df83b9778aca8a.jpg.jpg', 'B2_OM-61-_JPG_jpg.rf.fefa98851198324e46d5a049ee05b.jpg', 'B2_OM-29-_JPG_jpg.rf.811298d858d4f69ac927ff51ded72.jpg', 'B1_OM-17-_jpg.rf.9dfe331a9582411d6a4de12b6dd541f5..jpg', 'B1_OM-45-_jpg.rf.b24a9a4b77f0703a6a33fc28e39e4635..jpg', '23_PNG_jpg.rf.41f7c3b04fb99f6b8ef26c71acd47a0c.jpg.jpg', 'B2_OM-63-_JPG_jpg.rf.f7d2724b8ece21417d67c6e5f6ea1.jpg', '01078_jpeg_jpg.rf.340bb52c4b8e4e244b7ad70d2ee32274.jpg', 'B2_OM-58-_JPG_jpg.rf.806998e742b6cc14049dd4ebe43da.jpg', 'B1_OM-36-_jpg.rf.f8cc7ee97e66e2c5e7c27021073ce9c1..jpg', 'acute-paronychia-10_jpg.rf.ab6726b852707b2a0b8b8cd.jpg', 'B2_OM-16-_JPG_jpg.rf.35fc54c5d5d4285c19ee3fca3cd11.jpg', 'B1_OM-46-_jpg.rf.b5c3bb9f65f3a5dd0a1cd7c8fe2b5289..jpg', 'acute-paronychia-22_jpg.rf.a61d3b6b9e4a386b4c8a7b2.jpg', 'B2_OM-36-_JPG_jpg.rf.31da8e0f649e211a511faffc78ddd.jpg', 'B2_OM-31-_JPG_jpg.rf.a956211052542164705d09e7a4f03.jpg', 'B1_OM-1-_jpg.rf.b0db859da8b0ab8c78d2c0d5006da5f7.j.jpg', 'B2_OM-36-_JPG_jpg.rf.f2f3960a47f3eea4540e798f09a0b.jpg', '026263HB_JPG_jpg.rf.1a69e8bb150dee3c9522f16a181a49.jpg', '22_PNG_jpg.rf.a0d2118339c5a5a06e2ba8aeca1dfdce.jpg.jpg', 'B2_OM-49-_JPG_jpg.rf.907e1717f57ac3dead342c0a1311f.jpg', 'B1_OM-4-_jpg.rf.b9aac07c549ebe90b7adf07535008cd0.j.jpg', 'B1_OM-50-_jpg.rf.20f4d828aa4fca34d1956ef2972086a3..jpg', 'B2_OM-25-_JPG_jpg.rf.b3f33d2c5784fc696f3cca5641d8c.jpg', 'alopecia-areata-2_jpg.rf.7ed901b76a2f8b76a5a9e9f59.jpg', 'B1_OM-14-_jpg.rf.36220a0d3084ba6da1b9cc4c3587f933..jpg', 'B2_OM-3-_JPG_jpg.rf.40ea16f96bfcd0ee1d93658719eab1.jpg', 'B2_OM-58-_JPG_jpg.rf.7f16a045391eb19057eec099d7246.jpg', 'B2_OM-2-_JPG_jpg.rf.6cef18c36c9274edaa756717d78aef.jpg', 'B1_OM-31-_jpg.rf.132745c0b08ba338461fa6836364549d..jpg', 'B2_OM-3-_JPG_jpg.rf.152f16576d9bf6b2a20236bbb05602.jpg', 'semisuper_kor_739_12_17_229_312_images_q-tbn_ANd9G.jpg', 'B1_OM-48-_jpg.rf.3c6aba1f988fbde092169c4f20f8b886..jpg', 'B2_OM-51-_JPG_jpg.rf.38333949667cca13407f045bec65f.jpg', 'acute-paronychia-20_jpg.rf.2940b1b7c5aa8c069985eae.jpg', 'B2_OM-26-_JPG_jpg.rf.84db3779b3375d5ceb26ce1e47b8d.jpg', 'B2_OM-19-_JPG_jpg.rf.bcade3e1c9bb19edc0fc24809018f.jpg', 'B1_OM-20-_jpg.rf.f966fd608662ee7e1da81d25fdca897c..jpg', 'B2_OM-100-_JPG_jpg.rf.354fb24b2f50b0f2854a4eaaa073.jpg', 'B1_OM-27-_jpg.rf.2c724337f67eac46bd61afdfe56a4a5b..jpg', 'II-1_jpg.rf.38630b22d2c5314fe9c7378642930970.jpg.jpg', '8-1024x815-1_jpg.rf.21e2a26d406bc093ec9abf0436ac05.jpg', '00227142s5-1_jpg.rf.0a027b406d4700a08c6d122114d972.jpg', 'JJ-1_jpg.rf.40533d4d74876c96c9adfc3c94dc8c48.jpg.jpg', 'yellow-nail-syndrome-1_jpg.rf.4c16e009aac6be8ce92c.jpg', 'HH-1_jpg.rf.72e883b89f09be4ee662627c39ec6d50.jpg.jpg', '13-1024x537-1_jpg.rf.b712448ce9c782400823d40a6d7b0.jpg', 'YUH-1_jpg.rf.7fc15ff334ea7eb35862e0b8555b2f94.jpg.jpg', '26-1_jpg.rf.2357a746c841994e33254fde03554813.jpg.jpg', 'HH-1_jpg.rf.be73c3a13d5f8b44bfc4e3b2ff52bc7d.jpg.jpg', 't_5e40fea5d3d98_700-1_jpg.rf.b625649ea017de34e06e4.jpg', '8-gejala-penyakit-terlihat-dari-kuku-deteksi-keseh.jpg', '30-1_jpg.rf.88923ebaf8be7516eb694e529a632fcd.jpg.jpg', '37-1_jpg.rf.7bde00b2f88c94d04e81e5c7239b6431.jpg.jpg', '8-1_jpg.rf.b1a0580ebc25df4854b0d7834f3f98af.jpg.jpg', '25-1_jpg.rf.bfd04d84c8e3567893f4afda03cbb36f.jpg.jpg', 'YUH-1_jpg.rf.ca1624d0fd50a7970d99e92bc55c5d77.jpg.jpg', 'kuku-kaki_jpg.rf.08a743cf722e04d2f53e5fc999b39324..jpg', '35-1_jpg.rf.189acec0cf94e17386fc78b7ff067d79.jpg.jpg', 'psoriasi-unghie-740x494-1_jpg.rf.52723f3bc141b05f5.jpg', '2-1_jpg.rf.738cd32021a1d8926fcc17d0cb1cf679.jpg.jpg', 'II-1_jpg.rf.929afc428b0b5b9d47b82767daf43424.jpg.jpg', '26-1_jpg.rf.a09d468f7c0a9bc4eb09eafd0bf10f40.jpg.jpg', 'kuku-kaki_jpg.rf.adc33ef62c569142ff05559d4c938d64..jpg', '54ee0d3c-c5ea-4813-a860-339f7672d23e_11_png.rf.fb4.jpg', '8-1_jpg.rf.861e5e3e9cb3368f1eb74d82f28398db.jpg.jpg', 'Psoriasi-3-1_jpg.rf.be7c06ce03544126c5e50fbd6ecd13.jpg', '00227142s5-1_jpg.rf.198a7c63613fe7ef6c6ab504597631.jpg', 'yellow-nail-syndrome-1_jpg.rf.4b850e8cf337920a8935.jpg', 'img_20170203_152824_059-1_jpg.rf.acee7af0cdb7cde84.jpg', 't_5e40fea5d3d98_700-1_jpg.rf.d62ace29147cd34a78376.jpg', 'IK-1_jpg.rf.b7789347a8d3128fcd124e4b4e0d7aa0.jpg.jpg', '25-1_jpg.rf.af2e69088e08380b981556e3137568fe.jpg.jpg', 'micose-unha_0_c-q4ixjbxxq1h897r9mn1i1ihowux5ad58hl.jpg', '1-726x1024-1_jpg.rf.19011257748bcd22f3cebbe360795d.jpg', '28-1_jpg.rf.cde2792dd6a2c82c3fd709116d3ca6c7.jpg.jpg', '15-1_jpg.rf.a8446af3f99923e6d450338239333b26.jpg.jpg', 'JJ-1_jpg.rf.a25bbf39285f4f858ca5eecb545c914b.jpg.jpg', '10-711x1024-1_jpg.rf.537159760bf7175d36c70c724c14a.jpg', 'IMG-20230829-WA0163-1_jpg.rf.d214e8d22ef5b8e12d105.jpg', 'onicomicose_disseminacao_12122020160557-1_jpg.rf.2.jpg', '22-1_jpg.rf.c133fe3a0dc5d455f9e71df0e5aacc3d.jpg.jpg', '2-1_jpg.rf.9124398938e71a6a85c48f6e5f41084d.jpg.jpg', '9_jpg.rf.f033ce4c2a8523f1e2be7fae48fc0085.jpg.jpg', 'psoriasi-unghie-1_jpg.rf.9a2e1ab34e4f1e6c24db583bd.jpg', 'psoriasis-kukujpg-20221028013140-1_jpg.rf.d1b4dc5c.jpg', 'BN-1_jpg.rf.876638dcdaac782b0ce721da53f28682.jpg.jpg', 'micose-nas-unhas-1_jpg.rf.5693b005ad464811c7e96e4e.jpg', '11-1_jpg.rf.a3636cb233b9b76099973eca548fa108.jpg.jpg', '29-1_jpg.rf.3e087bd3a7e8a528f3de34a0c294807c.jpg.jpg', '20-1_jpg.rf.573cfdc99d8b0d456429d15a2bdbea76.jpg.jpg', '1-726x1024-1_jpg.rf.cbe7694c19721daf8773f7e623f734.jpg', '36-1_jpg.rf.eddf50236906b349b1881e0f9f22c779.jpg.jpg', 'YYY-1_jpg.rf.af971d5a1247f0fda76568dde2c1d410.jpg.jpg', '8-1024x815-1_jpg.rf.516b33fcb1f87f75ea672f3f847f68.jpg', 'micose-de-unha-1_jpg.rf.bd91d6ee68a340493f523afd0e.jpg', '36-1_jpg.rf.e33d4e650425f47641910ca53e09c326.jpg.jpg', '8-1024x815-1_jpg.rf.f0391fbf42715ad32bd23eb8a7d33e.jpg', '15-1_jpg.rf.e5bcc08655e8a1fb34a8c605fa5121c3.jpg.jpg', '13-1_jpg.rf.ad11c50c4bda2eb6deca9dbb6243e4ed.jpg.jpg', 'SA-1_jpg.rf.b805d402c324ed3a62753e655fe87b61.jpg.jpg', '13-1024x537-1_jpg.rf.c68c0ba2257c8a184fff540096d44.jpg', '30-1_jpg.rf.acf8b4c085bfe4e2902d344403039a45.jpg.jpg', 'yellow-nail-syndrome-1_jpg.rf.9cd1ea757b770efe3831.jpg', 'YUH-1_jpg.rf.dd2b805df72b2fd5f62c85dcc6c86743.jpg.jpg', 'BN-1_jpg.rf.a7de8decd78c0561dd9b27bfa0bca44d.jpg.jpg', 'problemi_forma1-1_jpg.rf.a9707cdc05f82c9007ae128cf.jpg', '00227142s5-1_jpg.rf.1f208f47c42c9d89c98c2c01bb941a.jpg', 'problemi_forma1-1_jpg.rf.89bcdf7c68df29896beb9e59f.jpg', '38-1_jpg.rf.3a72f71807a08f52d0cc8712f9ecc05a.jpg.jpg', '13-1_jpg.rf.20da32dced28824ce503342ed89f25a9.jpg.jpg', '14-1_jpg.rf.dba43bc8b349c335ae41bb43538d1331.jpg.jpg', 'idappsoriasistingkatkanrisikoterkenajamurkukuhalod.jpg', '35-1_jpg.rf.f3bb5081b030ea48649bc97269dc827c.jpg.jpg', 'micose-nas-unhas-1_jpg.rf.1a8d0fce240c9fb16c304989.jpg', '10-711x1024-1_jpg.rf.3cb44a945621b6b141b9a900cabc6.jpg', '13-1024x537-1_jpg.rf.14547a32cb11637320ae80a23733b.jpg', '28-1_jpg.rf.c58897948c48996b93d1853fede101af.jpg.jpg', '36-1_jpg.rf.c3ae00218a43d8702db8bf2e7aefe8a3.jpg.jpg', 'psoriasis-kukujpg-20221028013140-1_jpg.rf.f16afc32.jpg', 'IMG-20230829-WA0168-1_jpg.rf.9507e3609c39ac7c0786c.jpg', '9_jpg.rf.dc02869322876a0396203e2f51b678bb.jpg.jpg', 'YYY-1_jpg.rf.4b88da09376a8e9bb95a9934a5b14eec.jpg.jpg', '28-1_jpg.rf.b35c745360f87d99dd5547e3a6800be1.jpg.jpg', '20-1_jpg.rf.42029bc6c7fa68dbe3fa1b0661716893.jpg.jpg', 'kuku-kaki_jpg.rf.3fe365313e7cd516725460d65c7da36f..jpg', '1-726x1024-1_jpg.rf.151d7fda0bdec5ddd4a9f95f0829ab.jpg', '14-1_jpg.rf.ea764c0c3b9d6ce48efa456a93e17734.jpg.jpg', 'YYY-1_jpg.rf.067fdfd56f51e8607f4625b2091d9670.jpg.jpg', '35-1_jpg.rf.c97c1d92445648fbdff5d42d6ca38567.jpg.jpg', '30-1_jpg.rf.a07f6a0b93deff33818c68e39d5e8c3a.jpg.jpg', '37-1_jpg.rf.23f91315fca27a5cd3d9be073f81a3e2.jpg.jpg', '24-1_jpg.rf.8387d6b0e6edbfcde26ea8c4aafb70ce.jpg.jpg', 'onicocriptosi-1_jpg.rf.5104b44b0ce045c59c851734d22.jpg', '17-1_jpg.rf.b648bda3335edd57aab56e8e85b41fe8.jpg.jpg', '26-1_jpg.rf.08ea650a09d79e467c03f6faaf796357.jpg.jpg', 'dbt-1_jpg.rf.c62d4c26ba466501c2b0013f61397e60.jpg.jpg', '20-1_jpg.rf.5b82b0339119043a922fe91716443c86.jpg.jpg', 't_5e40fea5d3d98_700-1_jpg.rf.8cec18ebfc4bfd5f776f9.jpg', '15-1_jpg.rf.b7ed0a564e9d0818618531e4d438bfe8.jpg.jpg', '17-1_jpg.rf.3c18c70b054b8c88d1abe574fae07dbd.jpg.jpg', 'micose-nas-unhas-1_jpg.rf.8d90f3d674a86c837f434e69.jpg', '37-1_jpg.rf.92beb70d5d50da80da83636920c1c866.jpg.jpg', 'IK-1_jpg.rf.c63067b4b84c61ad670599ebe7437245.jpg.jpg', 'Psoriasi-3-1_jpg.rf.5009bea07013fcd1522353438e3eda.jpg', 'problemi_forma1-1_jpg.rf.2d361a02c369f230f20c7bd23.jpg', 'IMG-20230821-WA0006-1-1_jpg.rf.fd9e97670f8aee3721c.jpg', 'BN-1_jpg.rf.399a4c08a2a790e57153e98b9d6a0345.jpg.jpg', 'onycholysis-b36267d7455b989aefc95654921e92f3_600x3.jpg', 'psoriasi-unghie-740x494-1_jpg.rf.607d6e5d8f640f450.jpg', 'SA-1_jpg.rf.48dc3aa14f930e03b9aa58da5ec64fbc.jpg.jpg', '8-1_jpg.rf.cd9d54f1a6596b956cec9540e04b4e67.jpg.jpg', 'micose-de-unha-1_jpg.rf.640277ad66e1ac3100d9110345.jpg', '033632300_1546585231-pitted-nails-1_jpg.rf.ee50d0f.jpg', '9_jpg.rf.8656ae79e223665887def4dc6576b703.jpg.jpg', '2-1_jpg.rf.2924ce8a0a12b4c8c6c970fc95a006a4.jpg.jpg', 'Psoriasi-3-1_jpg.rf.6ad9e323b5899ba12670941d1521b1.jpg', '54ee0d3c-c5ea-4813-a860-339f7672d23e_11_png.rf.c81.jpg', '25-1_jpg.rf.94c0ead727e6d53537b74bef2d60aa2b.jpg.jpg', '10-1_jpg.rf.4bf2b1d2b881a5d2b6c085b94caa42f2.jpg.jpg', '13-1_jpg.rf.90d68bd899267c213c4990292e700ca7.jpg.jpg', 'psoriasis-kukujpg-20221028013140-1_jpg.rf.a2583cae.jpg', 'shhs-1_jpg.rf.26a6bb236c6497d71f62383d0d6ee5fb.jpg.jpg', '14-1_jpg.rf.6f0b4a690f87f8f5777c3bdb9b85cc81.jpg.jpg', '31-1_jpg.rf.377d22743238309ab0e5c478f574021c.jpg.jpg', '19-1_jpg.rf.c6fb9f754415c8087026c1bf94176df5.jpg.jpg', 'micose-de-unha-1_jpg.rf.2d541fe701412d292aed7ee073.jpg', 'HH-1_jpg.rf.3f66f0b01d673f30afac764b029b7f9c.jpg.jpg', '31-1_jpg.rf.5ea5a9ff9309ea3de4754e8828473dc6.jpg.jpg', 'onicomicosi-1_jpg.rf.7cc756260581e6d209e2d7666dff7.jpg', '54ee0d3c-c5ea-4813-a860-339f7672d23e_11_png.rf.e14.jpg', 'JJ-1_jpg.rf.c04224ea6880b74afde1b4e30ce87a46.jpg.jpg', 'IK-1_jpg.rf.210deeaa33e423571b185176d3129f4c.jpg.jpg', '17-1_jpg.rf.b84e148b384632b479ed9db8df2f78b4.jpg.jpg', '31-1_jpg.rf.aa5a92e5976c73c866f61db42e60e3e2.jpg.jpg', 'II-1_jpg.rf.d157246fee0ba5242d77ec33a7b73674.jpg.jpg', 'disturbi-unghia-768x766-1_jpg.rf.2b0bc422b6d2c5ca1.jpg', 'hipwee-gangren-doktersehat-640x480-1_jpg.rf.fc61aa.jpg', 'SA-1_jpg.rf.9ebff9b64fc5f1d9bdc3afe40ec4ab8d.jpg.jpg', '10-711x1024-1_jpg.rf.d86579a3286800e1977e468e80f55.jpg', '2811420-as-micoses-sao-provocadas-por-fungos-e-s-1.jpg', 'psoriasi-unghie-740x494-1_jpg.rf.d6659bb3fefaf49f7.jpg', 'yellow-nails-3-transformed_jpeg.rf.b85bf2365181ae7.jpg', 'yellow-nails-6-transformed_jpeg.rf.f88eb752a93535d.jpg', 'yellow-nails-16-transformed_jpeg.rf.e750f7c5b97e58.jpg', 'yellow-nails-8-transformed_jpeg.rf.7b39bb0df624213.jpg', 'yellow-nails-17-transformed_jpeg.rf.146de2d42f5aca.jpg', 'yellow-nails-15-transformed_jpeg.rf.2da54286e16282.jpg', 'yellow-nails-14-transformed_jpeg.rf.10588863a6cc27.jpg', 'yellow-nails-9-transformed_jpeg.rf.06d77493d58a844.jpg', 'yellow-nails-14-transformed_jpeg.rf.08e8d5fdc10443.jpg', 'yellow-nails-4-transformed_jpeg.rf.0dc10b4ef42caab.jpg', 'yellow-nails-9-transformed_jpeg.rf.17e00294c7eb48d.jpg', 'yellow-nails-2-transformed_jpeg.rf.8125d54fe400c96.jpg', 'yellow-nails-5-transformed_jpeg.rf.777062ab23f1b51.jpg', 'yellow-nails-7-EYzzKMZiX-transformed_jpeg.rf.53c5a.jpg', 'yellow-nails-19-transformed_jpeg.rf.b302c0b5f76282.jpg', 'yellow-nails-18-transformed_jpeg.rf.fb66ae7a52b8c6.jpg', 'yellow-nails-14-transformed_jpeg.rf.ac82173a61a9fc.jpg', 'yellow-nails-7-EYzzKMZiX-transformed_jpeg.rf.cab51.jpg', 'yellow-nails-11-transformed_jpeg.rf.3289e8fa654a09.jpg', 'yellow-nails-11-transformed_jpeg.rf.571c20fbcdc7f0.jpg', 'yellow-nails-7-EYzzKMZiX-transformed_jpeg.rf.8fa19.jpg', 'yellow-nails-4-transformed_jpeg.rf.85de6a91655288b.jpg', 'yellow-nails-12-transformed_jpeg.rf.5d7536cf8f5062.jpg', 'yellow-nails-11-transformed_jpeg.rf.69cb16b7018e2c.jpg', 'yellow-nails-9-transformed_jpeg.rf.7907be38e05fe95.jpg', 'yellow-nails-17-transformed_jpeg.rf.949f9677d9b749.jpg', 'yellow-nails-5-transformed_jpeg.rf.956a800ee4776d6.jpg', 'yellow-nails-1-transformed_jpeg.rf.635b67dba16f3c3.jpg', 'yellow-nails-10-transformed_jpeg.rf.97932ad2ae1bda.jpg', 'yellow-nails-17-transformed_jpeg.rf.5ca168b1c55f93.jpg', 'yellow-nails-4-transformed_jpeg.rf.c4b183780efd795.jpg', 'yellow-nails-15-transformed_jpeg.rf.e13cd197aafef4.jpg', 'yellow-nails-18-transformed_jpeg.rf.4c13acbdfab5ea.jpg', 'yellow-nails-18-transformed_jpeg.rf.5e7e9427bf9328.jpg', 'yellow-nails-15-transformed_jpeg.rf.49ce19ef6f5359.jpg', 'yellow-nails-12-transformed_jpeg.rf.43b799957d207e.jpg', 'yellow-nails-5-transformed_jpeg.rf.b0189f78123adc7.jpg', 'yellow-nails-1-transformed_jpeg.rf.6830cc427456a61.jpg', 'yellow-nails-12-transformed_jpeg.rf.be69e82a9752b5.jpg', 'yellow-nails-13-transformed_jpeg.rf.997e6476d9e074.jpg', 'yellow-nails-1-transformed_jpeg.rf.bba7abf6ffb660b.jpg']\n",
            "Isi folder sehat: ['semisuper_jpn_555_35_394_240_585_tinea-pedis-pictu.jpg', 'semisuper_1206_380_584_586_790_OnychomycosisE4_jpg.jpg', 'semisuper_jpn_439_1329_347_1756_774_0b8c4b3f_JPG_j.jpg', 'semisuper_192_356_18_568_231_LEUKONYCHIA-OF-NAILS_.jpg', 'semisuper_850_368_296_587_502_nagelpilz-nagelmykos.jpg', 'semisuper_1950_774_846_1082_1154_Acopaquia_jpg.rf..jpg', 'semisuper_1642_414_370_711_668_036923HB_JPG_jpg.rf.jpg', 'semisuper_529_98_162_349_414_nail-health_jpg.rf.3a.jpg', 'semisuper_425_318_12_544_239_fig13_jpg.rf.e030a13a.jpg', 'Screen-Shot-2021-11-22-at-8-26-17-PM_png_jpg.rf.69.jpg', '29_PNG_jpg.rf.041912afe2b15df0d29c0a6f5b730fb7.jpg.jpg', 'semisuper_1497_570_64_840_340_beforeandafternail_j.jpg', 'Screen-Shot-2021-10-15-at-10-45-38-AM_png_jpg.rf.b.jpg', 'semisuper_977_1077_193_1329_445_026166HB_jpg.rf.db.jpg', 'semisuper_2200_437_10_618_191_10287-DSC02388-2-_jp.jpg', 'semisuper_2170_477_531_657_710_median-nail-dystrop.jpg', '53_PNG_jpg.rf.e2eca7d2dd7cb65b71a408ac645aacd0.jpg.jpg', 'Screen-Shot-2021-11-22-at-8-58-21-PM_png_jpg.rf.c9.jpg', 'semisuper_1116_97_499_295_696_median-nail-dystroph.jpg', 'semisuper_606_90_157_412_479_029777HB_jpg.rf.d90cc.jpg', 'Screen-Shot-2021-11-22-at-9-52-28-PM_png_jpg.rf.f8.jpg', 'semisuper_jpn_54_299_43_605_349_sokohakuri_140922_.jpg', 'semisuper_761_718_398_913_593_fig_24j_jpg.rf.55147.jpg', 'semisuper_2291_502_386_694_578_ingrown-nail-56ce64.jpg', 'semisuper_1188_79_65_382_368_e2f3b7338e73b04fd2bdb.jpg', 'semisuper_2331_17_26_329_341_ijdvl_2011_77_6_652_8.jpg', 'semisuper_490_716_410_897_590_fig_12j-6-_jpg.rf.78.jpg', 'Screen-Shot-2021-10-15-at-12-06-00-PM_png_jpg.rf.6.jpg', 'Normal-18-_jpg.rf.57ab8b9266ba5916c2d5f5292575cebd.jpg', 'Screenshot_11_png_jpg.rf.d54160a7a93039e9f0d07cc31.jpg', 'Screenshot-2021-11-22-174543_png_jpg.rf.62af15ffe3.jpg', 'semisuper_1481_2149_983_2482_1333_onychomycosis136.jpg', '9_PNG_jpg.rf.5a3fc157e4a479cd4b1b2752c7fe2808.jpg.jpg', 'Screen-Shot-2021-10-15-at-11-54-56-AM_png_jpg.rf.c.jpg', 'semisuper_jpn_212_18_118_346_489_-E7-88-AA-E3-81-A.jpg', 'Screen-Shot-2021-10-15-at-11-45-16-AM_png_jpg.rf.6.jpg', 'semisuper_530_523_179_814_470_nail-health_jpg.rf.5.jpg', 'Screen-Shot-2021-10-15-at-11-54-44-AM_png_jpg.rf.e.jpg', 'semisuper_522_586_181_786_382_skin_transverse_nail.jpg', 'semisuper_2295_2024_662_3201_1839_2013-06-03_19460.jpg', 'semisuper_874_36_219_264_448_leukonychia_jpg.rf.22.jpg', 'semisuper_1071_164_142_483_461_TtlerP_jpg.rf.de181.jpg', 'semisuper_1559_335_175_755_595_036930HB_JPG_jpg.rf.jpg', 'semisuper_294_723_385_1235_897_029770HB_jpg.rf.cfc.jpg', 'ml98_png_jpg.rf.5ab5a4358e24c46451a315d73858e366.j.jpg', 'semisuper_125_288_291_782_785_025766HB_jpg.rf.be0b.jpg', 'semisuper_jpn_55_604_275_826_501_sokohakuri_140922.jpg', 'semisuper_711_1102_617_1321_837_029779HB_jpg.rf.5c.jpg', 'semisuper_975_917_717_1162_963_026166HB_jpg.rf.d82.jpg', 'ml87_png_jpg.rf.db427eba99292c97bf9a905632f1ee9c.j.jpg', 'semisuper_1659_1245_21_1582_401_nail-fungus-1_jpg..jpg', 'semisuper_97_181_336_396_552_Onycholysis_left_hand.jpg', 'semisuper_327_271_38_608_375_036185HB_jpg.rf.99de2.jpg', 'semisuper_121_167_1257_508_1597_Onycholysis_right_.jpg', '29_PNG_jpg.rf.01745923e72255c8bc6a7a9179ffba15.jpg.jpg', 'semisuper_1780_549_31_969_451_2012-02-16_005011_fi.jpg', 'semisuper_1074_321_527_519_726_fig_14j-4-_jpg.rf.6.jpg', 'semisuper_724_337_547_675_884_Ingrownl_jpg.rf.5f0a.jpg', 'semisuper_1366_197_281_359_443_775665-figure-9_jpg.jpg', 'defective-3-_jpg.rf.bb3699fc957993d60eec96f448185c.jpg', 'semisuper_jpn_213_1094_619_1486_955_-E7-88-AA-E3-8.jpg', 'semisuper_2061_42_190_241_389_image-9e5d3c61f61492.jpg', 'semisuper_1971_539_718_790_969_fold_hand_finger1_j.jpg', 'semisuper_318_24_46_461_489_fig_1j-37-_jpg.rf.eb56.jpg', 'semisuper_96_263_100_471_308_Onycholysis_left_hand.jpg', 'semisuper_160_925_180_1155_410_8718367adab44aed89a.jpg', 'semisuper_1903_852_22_1328_428_dlv40115f1_jpg.rf.6.jpg', 'semisuper_979_788_546_995_753_026166HB_jpg.rf.c7da.jpg', 'semisuper_1938_186_70_389_274_Brittle-nails_jpg.rf.jpg', 'semisuper_jpn_564_1842_266_2268_691_529194_3288510.jpg', 'semisuper_1088_480_706_696_922_melanonychia1_jpg.r.jpg', 'semisuper_jpn_127_412_17_720_325_sokohakuri_150206.jpg', '42_PNG_jpg.rf.75276d421f5c93472ea39b180ad79bdc.jpg.jpg', '35_PNG_jpg.rf.cca9568e5409fea3679b55a6cd31b3b8.jpg.jpg', 'semisuper_2262_1673_1027_2094_1448_melanonychia-_-.jpg', '40_PNG_jpg.rf.de2efb329b54df6a81f7f49ab2185949.jpg.jpg', 'ml62_png_jpg.rf.43ac7ebdabdafcb7d844eb3e95518a4c.j.jpg', 'k69_png_jpg.rf.74c83e1debd61b5124a56b181e3b44fc.jp.jpg', 'Screen-Shot-2021-10-15-at-11-44-18-AM_png_jpg.rf.c.jpg', 'semisuper_335_460_603_912_1055_img00336-20120309-1.jpg', 'semisuper_1293_388_220_567_399_onycholysis-14_jpg..jpg', 'semisuper_345_662_239_1213_791_Peeling-Fingernails.jpg', 'semisuper_1068_1023_691_1389_1057_026172HB_jpg.rf..jpg', 'Screen-Shot-2021-11-22-at-5-02-29-PM_png_jpg.rf.15.jpg', 'semisuper_kor_756_351_1042_1145_1835_55e3a2ca0a2e7.jpg', 'semisuper_1383_1059_751_1293_985_PsoriasisNailsPit.jpg', 'semisuper_162_132_353_393_613_8718367adab44aed89a0.jpg', '14_PNG_jpg.rf.d27274f83aded5e74179dd5b46fd0802.jpg.jpg', 'Screen-Shot-2021-10-15-at-10-39-17-AM_png_jpg.rf.c.jpg', '21_PNG_jpg.rf.e503fd9aa12739d26ef113a9bef69c4b.jpg.jpg', 'semisuper_1331_865_417_1195_747_Onychomycosis2thum.jpg', 'semisuper_1386_18_272_359_712_discolored-nail_jpg..jpg', 'semisuper_837_484_298_853_667_cardimage_3605523_01.jpg', 'semisuper_992_833_376_1009_552_fig_4j-22-_jpg.rf.d.jpg', 'semisuper_804_2042_1769_2537_2264_leukonychia1_jpg.jpg', 'semisuper_524_197_320_402_526_skin_transverse_nail.jpg', 'semisuper_2207_878_721_1120_963_026170HB_JPG_jpg.r.jpg', 'semisuper_1611_596_340_932_676_2j_jpg.rf.60ddec135.jpg', 'Screen-Shot-2021-11-22-at-9-47-46-PM_png_jpg.rf.0e.jpg', 'semisuper_2349_84_133_264_313_00002227_standalone_.jpg', 'semisuper_jpn_482_125_215_362_452_day186_01_jpg.rf.jpg', '10_PNG_jpg.rf.e1dcb61f844e47dcd04fbbbfaf3af7b0.jpg.jpg', 'Screen-Shot-2021-11-22-at-8-18-57-PM_png_jpg.rf.72.jpg', 'Screen-Shot-2021-10-15-at-11-47-54-AM_png_jpg.rf.c.jpg', 'semisuper_jpn_144_76_351_441_715_mizumusiasinoyubi.jpg', 'Screen-Shot-2021-11-22-at-5-21-20-PM_png_jpg.rf.e5.jpg', 'semisuper_1128_740_267_985_560_nail_dystrophy5_jpg.jpg', 'semisuper_1070_139_580_508_950_026172HB_jpg.rf.000.jpg', 'semisuper_2049_191_389_399_597_ijdvl_2012_78_3_309.jpg', 'semisuper_848_415_97_644_326_fig_5j-16-_jpg.rf.6bf.jpg', 'semisuper_jpn_516_76_351_441_715_mizumusiasinoyubi.jpg', 'semisuper_1112_886_408_1245_767_melanonychia8_jpg..jpg', 'semisuper_350_50_21_435_400_fig_13j-6-_jpg.rf.d971.jpg', 'semisuper_kor_775_372_78_592_298_20160308_234540_j.jpg', 'Screen-Shot-2021-11-22-at-9-06-56-PM_png_jpg.rf.dd.jpg', 'semisuper_581_77_216_275_414_Screen-Shot-2013-08-1.jpg', 'semisuper_869_249_267_482_501_leukonychia_jpg.rf.4.jpg', 'semisuper_2274_468_430_720_682_images_q-tbn_ANd9Gc.jpg', 'semisuper_870_718_162_936_380_leukonychia_jpg.rf.5.jpg', 'semisuper_jpn_276_177_520_412_755_20140215_1001886.jpg', '44_PNG_jpg.rf.be35cd5482c6f7bf20827e5dcd19911f.jpg.jpg', 'semisuper_2159_167_59_681_572_200902-fig1_jpg.rf.f.jpg', 'semisuper_1767_29_762_408_1140_ProximalSubungualon.jpg', 'Normal-17-_jpg.rf.583ce5e2b6080b2ecd338c619771264a.jpg', 'semisuper_2279_33_812_302_1068_2_jpg.rf.5588d40677.jpg', 'Screenshot_23_png_jpg.rf.079447493017ff3cd58f97730.jpg', 'semisuper_593_95_291_770_966_025654HB_jpg.rf.e5560.jpg', 'Screen-Shot-2021-10-26-at-12-11-37-PM_png_jpg.rf.e.jpg', 'Screen-Shot-2021-11-22-at-8-15-51-PM_png_jpg.rf.03.jpg', 'semisuper_716_1315_438_1522_644_029779HB_jpg.rf.de.jpg', 'semisuper_219_11_175_211_384_Slide3_JPG_jpg.rf.827.jpg', 'Normal-11-_jpg.rf.5bed75a2d558e7aa9938613cbc4ae216.jpg', '43_PNG_jpg.rf.6882d0c40151e7f53dfb596955d664bb.jpg.jpg', 'semisuper_1081_233_609_558_934_026167HB_jpg.rf.5d2.jpg', 'semisuper_1953_474_1075_784_1385_Acopaquia_jpg.rf..jpg', '42_PNG_jpg.rf.715c2e2c45d349b8e7b5a184f9a630c5.jpg.jpg', 'Screen-Shot-2021-11-22-at-9-06-59-PM_png_jpg.rf.06.jpg', 'semisuper_980_435_674_700_939_026166HB_jpg.rf.fa99.jpg', 'Normal-5-_jpg.rf.fdd5a5c41b8cb2fe01c01e6874014015..jpg', 'semisuper_2266_304_1019_561_1277_dst30205f1_jpg.rf.jpg', 'semisuper_221_177_110_421_354_20140609-232353-8423.jpg', 'semisuper_1610_700_135_927_362_2j_jpg.rf.bd5018207.jpg', 'semisuper_1931_883_201_1092_410_Psoriasis_nail_knu.jpg', 'semisuper_608_1010_392_1340_723_029777HB_jpg.rf.5c.jpg', 'Normal-19-_jpg.rf.667342d32c1a5e822b5688857b5057fc.jpg', 'Screen-Shot-2021-10-15-at-12-01-57-PM_png_jpg.rf.f.jpg', '17_PNG_jpg.rf.5ee0780f79efd7c969a72a8f043d0bdb.jpg.jpg', 'semisuper_kor_771_384_146_562_324_images_q-tbn_ANd.jpg', 'semisuper_730_1020_531_1353_864_036246HB_jpg.rf.d8.jpg', 'beaus-lines-20_jpg.rf.dcb6f77c4fc7c65e6fd5000e358e.jpg', 'semisuper_344_387_337_896_846_Peeling-Fingernails_.jpg', 'semisuper_161_736_412_1007_683_8718367adab44aed89a.jpg', 'Normal-15-_jpg.rf.d56558375c0f086197b8f0c142169721.jpg', 'Normal-14-_jpg.rf.e62796d7ee1d0b1fec951c1cbae6aa73.jpg', 'semisuper_1266_147_172_381_406_onycholysis-45_jpg..jpg', 'semisuper_117_191_47_426_281_2rwxs92_jpg.rf.737f4e.jpg', 'semisuper_jpn_124_272_202_500_430_5c11b41d_jpg.rf..jpg', 'semisuper_1170_2663_1559_3233_2146_nail-pic_jpg.rf.jpg', 'semisuper_jpn_279_380_214_597_432_20140215_1001886.jpg', 'semisuper_712_234_670_443_879_029779HB_jpg.rf.225d.jpg', 'Normal-13-_jpg.rf.5f58bf6929fe8f841d696b3119cc7058.jpg', 'Screen-Shot-2021-11-22-at-5-16-29-PM_png_jpg.rf.7d.jpg', 'semisuper_2306_655_730_984_1059_L-H-synd2_edited-1.jpg', 'semisuper_2307_445_701_712_968_L-H-synd2_edited-1_.jpg', 'semisuper_978_39_563_251_775_026166HB_jpg.rf.4c9ba.jpg', '8_PNG_jpg.rf.25b93979cfd0767f66ab9a430c8d05b3.jpg.jpg', 'semisuper_1730_539_193_769_440_ijdvl_2015_81_4_390.jpg', '19_PNG_jpg.rf.a2f01a8a20b0ee1450e0c28ca573f14c.jpg.jpg', 'semisuper_jpn_212_18_118_346_489__E7_88_AA_E3_81_A.jpg', 'semisuper_2290_131_285_485_639_ingrown-nail-56ce64.jpg', 'semisuper_2181_429_118_705_395_melanonychia-benign.jpg', 'Screenshot-2021-11-22-144529_png_jpg.rf.06f77b0537.jpg', 'semisuper_1970_816_989_1022_1189_fold_hand_finger1.jpg', 'semisuper_743_64_313_297_547_OEM-Painless-safe-sid.jpg', 'ml99_png_jpg.rf.94678baee048bf3b663d1dcd2fcf8583.j.jpg', 'semisuper_1954_1155_885_1463_1194_Acopaquia_jpg.rf.jpg', 'semisuper_1884_557_879_896_1218_dlo150044f1_jpg.rf.jpg', 'semisuper_2072_437_74_692_329_psoriasis-nails_jpg..jpg', 'Normal-7-_jpg.rf.4048067b4b26c98b947abc9b19b7ff35..jpg', 'Screenshot-2021-11-22-144741_png_jpg.rf.9f29affe2f.jpg', 'Screen-Shot-2021-11-22-at-4-49-03-PM_png_jpg.rf.57.jpg', 'ml2_png_jpg.rf.bd6cfc95bcfe5d7abc4f6d834c000a0c.jp.jpg', 'semisuper_jpn_135_413_206_1163_956_001_a2_jpg.rf.1.jpg', 'semisuper_913_9_244_182_441_403v105n05-90327714fig.jpg', 'semisuper_845_81_449_316_684_fig_5j-16-_jpg.rf.9ef.jpg', 'semisuper_319_87_54_408_375_fig_1j-37-_jpg.rf.6955.jpg', 'Screen-Shot-2021-10-15-at-11-44-10-AM_png_jpg.rf.8.jpg', 'semisuper_1746_1196_682_1410_895_035907HB_JPG_jpg..jpg', 'semisuper_708_514_100_716_303_036924HB_jpg.rf.899c.jpg', 'ml93_png_jpg.rf.bac4925e2f29d73a38e903e32546fd39.j.jpg', 'Screen-Shot-2021-10-15-at-11-54-23-AM_png_jpg.rf.3.jpg', 'semisuper_jpn_107_366_376_671_681_sokohakuri_15031.jpg', 'Screen-Shot-2021-10-26-at-11-06-37-AM_png_jpg.rf.9.jpg', 'Screen-Shot-2021-11-22-at-9-14-42-PM_png_jpg.rf.20.jpg', 'semisuper_1385_575_34_977_437_discolored-nail_jpg..jpg', 'ml13_png_jpg.rf.8fcd2e975bcba90cc098afad3090da55.j.jpg', '11_PNG_jpg.rf.3f4d52c31f428e5d55f3973f4c278106.jpg.jpg', 'semisuper_523_767_433_1014_680_skin_transverse_nai.jpg', 'semisuper_935_791_411_1239_860_026490HB_jpg.rf.b5e.jpg', 'semisuper_jpn_102_78_486_355_763_tsume2_jpg.rf.500.jpg', 'semisuper_1080_940_681_1315_1055_026167HB_jpg.rf.9.jpg', 'Screen-Shot-2021-11-22-at-5-05-41-PM_png_jpg.rf.a1.jpg', 'semisuper_jpn_210_628_292_1115_780__E7_88_AA_E3_81.jpg', 'semisuper_159_516_515_765_765_8718367adab44aed89a0.jpg', 'semisuper_348_923_671_1144_891_nailsspa-rose1_jpg..jpg', 'semisuper_jpn_126_224_11_435_222_sokohakuri_140918.jpg', 'Screen-Shot-2021-10-15-at-11-51-53-AM_png_jpg.rf.f.jpg', 'beaus-lines-16_jpg.rf.0d8fa815f2d9bfb7192259bd7427.jpg', 'Normal-4-_jpg.rf.bc8af1e29888bb3b74cbccdb5b5ece14..jpg', 'semisuper_936_421_438_848_866_026490HB_jpg.rf.ad57.jpg', 'semisuper_872_477_176_669_368_leukonychia_jpg.rf.7.jpg', 'semisuper_1241_24_256_233_465_images_q-tbn_ANd9GcQ.jpg', 'ml22_png_jpg.rf.4652664d41522cb00c1c6d60cdfa9636.j.jpg', 'ml4_png_jpg.rf.6998a3413799b9afa1e9e04eb34cecc5.jp.jpg', 'semisuper_398_503_620_769_886_5581758864e470f4eb13.jpg', 'semisuper_jpn_213_1094_619_1486_955__E7_88_AA_E3_8.jpg', 'semisuper_579_453_183_631_361_021015b-140491FAB2F5.jpg', 'semisuper_607_423_451_810_838_029777HB_jpg.rf.26d2.jpg', 'Screen-Shot-2021-11-22-at-9-46-20-PM_png_jpg.rf.7c.jpg', 'Screen-Shot-2021-11-22-at-5-26-24-PM_png_jpg.rf.f2.jpg', 'Normal-20-_jpg.rf.91949d86ee485475ee784707792559bd.jpg', 'Normal-6-_jpg.rf.7d38194dbc2636803b42e91e1fb9fc1e..jpg', 'semisuper_800_1250_254_1726_729_leukonychia1_jpg.r.jpg', 'semisuper_1290_783_1102_1059_1378_all-nails_jpg.rf.jpg', '36_PNG_jpg.rf.5761405c4e88e150f5d226d0acf821cc.jpg.jpg', 'Screen-Shot-2021-10-15-at-12-04-49-PM_png_jpg.rf.a.jpg', 'semisuper_1180_1041_232_1477_683_OnycholysisClassi.jpg', 'semisuper_242_16_108_308_400_RRNail3_jpg.rf.281f24.jpg', 'semisuper_1060_625_499_1100_974_025655HB_jpg.rf.9d.jpg', 'Normal-21-_jpg.rf.49404c5e1b4fb7e20d97490a79023084.jpg', 'semisuper_jpn_114_363_15_636_289_sokohakuri_141104.jpg', 'semisuper_1437_703_554_949_800_Laser-with-toenail-.jpg', '53_PNG_jpg.rf.9c35a29392656551fe6ce789bca4a128.jpg.jpg', 'semisuper_1291_528_1023_790_1285_all-nails_jpg.rf..jpg', 'semisuper_993_644_307_820_483_fig_4j-22-_jpg.rf.f3.jpg', 'semisuper_914_723_439_950_666_036976HB_jpg.rf.4775.jpg', 'semisuper_1061_312_94_914_697_025655HB_jpg.rf.997b.jpg', 'semisuper_354_1099_129_1342_372_fig_13j-6-_jpg.rf..jpg', 'semisuper_jpn_222_204_113_411_321_TS3B0180_jpg.rf..jpg', 'Normal-1-_jpg.rf.f643872b877b8f79cb606aa8dec45948..jpg', 'semisuper_358_771_136_1045_409_fig_13j-6-_jpg.rf.9.jpg', 'semisuper_854_360_216_814_670_20140609-232353-8423.jpg', 'semisuper_1082_810_433_1055_677_026167HB_jpg.rf.1d.jpg', 'semisuper_1273_347_565_586_803_3yofingABlogo_jpg.r.jpg', 'semisuper_357_464_15_771_286_fig_13j-6-_jpg.rf.130.jpg', 'Screen-Shot-2021-10-15-at-11-58-58-AM_png_jpg.rf.4.jpg', 'semisuper_7_272_29_480_236_fungal-nails_jpg.rf.76a.jpg', 'semisuper_jpn_130_724_23_1160_438_healthy_jpg.rf.3.jpg', 'semisuper_1120_22_120_193_291_nail_dystrophy3_jpg..jpg', 'semisuper_1995_186_69_376_260_DermNailAnatomy_jpg..jpg', 'semisuper_1694_14_382_270_646_Turkey-Germany-178_j.jpg', 'Screen-Shot-2021-10-15-at-12-08-08-PM_png_jpg.rf.2.jpg', 'semisuper_1722_1209_585_1477_854_037079HB_JPG_jpg..jpg', 'semisuper_826_40_67_767_1286_1468603_jpg.rf.9aef07.jpg', 'Screen-Shot-2021-10-15-at-11-56-04-AM_png_jpg.rf.8.jpg', 'semisuper_111_2009_592_2532_1119_naillifting-onych.jpg', 'semisuper_483_1233_594_1618_978_036241HB_jpg.rf.8d.jpg', 'semisuper_jpn_221_103_308_570_776_images_q-tbn_ANd.jpg', 'semisuper_675_477_200_693_470_beaus1327988837804_j.jpg', 'semisuper_1006_1160_123_1578_668_scary_jpg.rf.6bfd.jpg', 'semisuper_400_11_728_210_937_5581758864e470f4eb13d.jpg', 'semisuper_jpn_36_294_522_510_738_-E6-B0-B4-E7-96-B.jpg', 'semisuper_jpn_142_928_371_1206_648_tumekyu2-1_jpg..jpg', 'Normal-3-_jpg.rf.4d77c7cc1226042609257446dc69ccca..jpg', 'semisuper_1289_766_241_978_454_all-nails_jpg.rf.30.jpg', 'semisuper_194_414_99_1195_881_o-NAIL-HEALTH-facebo.jpg', 'Screen-Shot-2021-11-22-at-5-03-08-PM_png_jpg.rf.bb.jpg', 'Screen-Shot-2021-11-22-at-9-46-28-PM_png_jpg.rf.f4.jpg', 'semisuper_1581_617_277_1118_779_0_toenailbanda_jpg.jpg', 'semisuper_14_20_17_381_324_toenail-fungus-5_jpg.rf.jpg', '13_PNG_jpg.rf.b6209181843ac51fe0ed441e774951d2.jpg.jpg', 'semisuper_1937_612_99_790_293_Brittle-nails_jpg.rf.jpg', 'semisuper_336_929_256_1505_851_img00336-20120309-1.jpg', '38_PNG_jpg.rf.abc14d4b2fd7edda46d47efce3667718.jpg.jpg', 'Screen-Shot-2021-10-15-at-11-05-02-AM_png_jpg.rf.2.jpg', 'semisuper_jpn_143_423_308_805_690_mizumusiasinoyub.jpg', 'semisuper_364_746_145_1145_545_Thumbnail_JPG_jpg.r.jpg', 'semisuper_528_292_190_617_515_nail-health_jpg.rf.2.jpg', 'Screen-Shot-2021-10-15-at-12-10-16-PM_png_jpg.rf.4.jpg', 'beau_jpg.rf.af29cc678029a736f7feeb85a1464d58.jpg.jpg', 'Screen-Shot-2021-11-22-at-9-07-23-PM_png_jpg.rf.8b.jpg', 'semisuper_1069_459_237_898_676_026172HB_jpg.rf.392.jpg', 'semisuper_1634_250_63_640_452_1j_jpg.rf.842b4b2187.jpg', 'semisuper_1084_1263_15_1620_295_026167HB_jpg.rf.95.jpg', 'Screen-Shot-2021-10-26-at-11-12-59-AM_png_jpg.rf.f.jpg', 'semisuper_1067_216_345_400_530_jof-01-00030-g005-1.jpg', 'semisuper_2063_336_171_591_427_4j_jpg.rf.a6803cae4.jpg', 'semisuper_976_267_701_474_908_026166HB_jpg.rf.1a69.jpg', 'semisuper_549_453_96_630_277_ONYCHIA1_jpg.rf.16cee.jpg', 'semisuper_1709_430_181_627_377_fungus-infection-na.jpg', '9_PNG_jpg.rf.1c5b9af320d4ef3294553f7468345b5c.jpg.jpg', 'semisuper_1100_10_462_206_674_melanonychia_1_06072.jpg', 'semisuper_611_397_113_599_326_775665-figure-14_jpg.jpg', 'semisuper_212_1273_496_1585_808_029778HB_jpg.rf.1c.jpg', 'beaus-lines-1_jpg.rf.b2127f4726d64ecc3674cd6a12471.jpg', 'semisuper_353_20_526_391_936_fig_13j-6-_jpg.rf.0d1.jpg', 'semisuper_1007_30_102_573_836_scary_jpg.rf.13cf2af.jpg', 'semisuper_468_101_163_535_598_026557HB_jpg.rf.7a89.jpg', 'semisuper_650_247_618_596_967_RRNail2_jpg.rf.3f916.jpg', 'Screenshot-2021-11-22-133655_png_jpg.rf.6a1e1d9fbd.jpg', 'Screen-Shot-2021-10-15-at-12-09-32-PM_png_jpg.rf.2.jpg', 'Screen-Shot-2021-11-22-at-5-26-29-PM_png_jpg.rf.05.jpg', 'semisuper_jpn_277_393_489_653_749_20140215_1001886.jpg', 'semisuper_1779_46_39_464_457_2012-02-16_005011_fin.jpg', 'Screen-Shot-2021-10-15-at-11-45-13-AM_png_jpg.rf.9.jpg', 'semisuper_583_160_10_353_200_Screen-Shot-2013-08-1.jpg', 'semisuper_1323_460_600_947_1087_000491HB_JPG_jpg.r.jpg', 'Screen-Shot-2021-10-26-at-10-55-54-AM_png_jpg.rf.1.jpg', 'semisuper_803_1417_1291_1796_1670_leukonychia1_jpg.jpg', 'semisuper_2269_92_419_289_616_fig_19j-1-_jpg.rf.98.jpg', 'semisuper_1083_12_628_245_876_026167HB_jpg.rf.faab.jpg', 'semisuper_805_922_1805_1526_2409_leukonychia1_jpg..jpg', 'semisuper_723_41_354_346_658_Ingrownl_jpg.rf.bd7c2.jpg', 'semisuper_jpn_275_303_796_745_1238_viruswartsfinge.jpg', 'semisuper_853_27_59_515_560_fig_2j-35-_jpg.rf.13f8.jpg', 'semisuper_2062_783_466_1036_719_4j_jpg.rf.3e78bdb0.jpg', 'semisuper_788_9_238_189_421_029775HB_jpg.rf.21d544.jpg', 'semisuper_849_203_24_413_234_fig_5j-16-_jpg.rf.484.jpg', 'semisuper_218_162_346_406_591_Slide3_JPG_jpg.rf.b9.jpg', 'semisuper_1042_262_112_778_628_db3ebc7d71617e1a7f9.jpg', 'semisuper_594_772_378_1332_939_025654HB_jpg.rf.9a2.jpg', 'Normal-9-_jpg.rf.1cf6d998ea75e72af5a0bcd33398e12d..jpg', 'semisuper_1343_38_108_265_336_c05f0071_jpg.rf.4378.jpg', 'semisuper_346_883_86_1523_726_Peeling-Fingernails_.jpg', '40_PNG_jpg.rf.ba0616fd63e150792f34223d5a6e8177.jpg.jpg', 'semisuper_1043_351_142_693_484_db3ebc7d71617e1a7f9.jpg', 'Screen-Shot-2021-10-15-at-11-58-54-AM_png_jpg.rf.2.jpg', 'semisuper_1832_437_294_644_500_Fungal-Nail-Infecti.jpg', 'semisuper_1637_248_410_500_661_OnychomyEndonyx4_jp.jpg', 'semisuper_1049_110_155_521_567_PsoriasisNails_jpg..jpg', 'Screen-Shot-2021-10-15-at-11-54-10-AM_png_jpg.rf.7.jpg', 'Screen-Shot-2021-11-22-at-9-47-23-PM_png_jpg.rf.8c.jpg', 'semisuper_1607_422_32_688_297_2j_jpg.rf.2e4fa03d5d.jpg', 'Normal-10-_jpg.rf.f6f5d3b5a5d8bc9ec687a38a89ac570a.jpg', 'semisuper_405_624_331_851_559_IMG_0772-940x705_jpg.jpg', 'semisuper_1274_191_361_373_543_3yofingABlogo_jpg.r.jpg', 'semisuper_397_849_113_1085_348_5581758864e470f4eb1.jpg', 'semisuper_126_782_556_1234_1009_025766HB_jpg.rf.ba.jpg', 'Screen-Shot-2021-10-15-at-12-04-36-PM_png_jpg.rf.5.jpg', 'semisuper_jpn_210_628_292_1115_780_-E7-88-AA-E3-81.jpg', 'semisuper_293_292_331_786_825_029770HB_jpg.rf.7b3e.jpg', 'semisuper_jpn_542_15_579_290_854_7abbcb12_JPG_jpg..jpg', 'Screen-Shot-2021-10-15-at-12-08-21-PM_png_jpg.rf.1.jpg', 'Screen-Shot-2021-10-26-at-11-17-51-AM_png_jpg.rf.2.jpg', 'semisuper_785_1019_599_1326_906_025709HB_jpg.rf.23.jpg', 'semisuper_847_764_373_960_568_fig_5j-16-_jpg.rf.6d.jpg', '41_PNG_jpg.rf.eee8305cd1f0f62e05b02b69139e4428.jpg.jpg', 'semisuper_1836_452_279_642_469_how-i-got-rid-of-to.jpg', 'semisuper_610_133_101_330_298_775665-figure-14_jpg.jpg', 'Screenshot-2021-11-22-201341_png_jpg.rf.fde7fcb57c.jpg', 'semisuper_778_180_294_479_593_fig_27j_jpg.rf.2e155.jpg', 'semisuper_jpn_166_1078_21_1354_297_maxresdefault_j.jpg', 'semisuper_jpn_204_79_107_306_333_img0046_jpg.rf.af.jpg', 'ml88_png_jpg.rf.84c49d5b1954df7ed9c71ce57721508e.j.jpg', 'semisuper_1952_1733_712_1986_982_Acopaquia_jpg.rf..jpg', 'Normal-2-_jpg.rf.800ce24153085c9d62c33bfcb671fbd2..jpg', 'ml57_png_jpg.rf.68788a83a8b96a61c65312ea670dc33c.j.jpg', 'semisuper_1972_996_971_1192_1168_fold_hand_finger1.jpg', 'Screen-Shot-2021-10-15-at-11-46-58-AM_png_jpg.rf.8.jpg', 'semisuper_531_545_147_888_489_nail-health_jpg.rf.5.jpg', 'semisuper_127_1118_328_1551_761_025766HB_jpg.rf.57.jpg', 'semisuper_2167_197_530_400_733_median-nail-dystrop.jpg', 'Normal-8-_jpg.rf.3a78fd333a73d318da9b2477d5e12696..jpg', 'semisuper_1213_985_648_1197_861_pt0906ce1_jpg.rf.0.jpg', 'Screenshot-2021-11-22-144804_png_jpg.rf.92d1aadbdd.jpg', 'Screenshot_9_png_jpg.rf.74c5f589c4c87e634613c431b5.jpg', 'semisuper_714_783_431_992_640_029779HB_jpg.rf.f782.jpg', 'semisuper_jpn_104_684_12_953_241_tsume2_jpg.rf.394.jpg', '28_PNG_jpg.rf.8e22329b18090bf0b03fa8b1a6f0f95a.jpg.jpg', 'semisuper_1955_15_828_301_1145_Acopaquia_jpg.rf.26.jpg', 'semisuper_1216_15_196_270_452_567_1_jpg.rf.986f6b3.jpg', 'Screen-Shot-2021-11-22-at-10-47-00-PM_png_jpg.rf.1.jpg', 'semisuper_jpn_204_79_107_306_333_img0046_jpg.rf.98.jpg', 'semisuper_356_436_447_759_771_fig_13j-6-_jpg.rf.05.jpg', 'semisuper_jpn_220_16_380_313_798_images_q-tbn_ANd9.jpg', 'semisuper_291_348_181_599_432_slide_19_jpg.rf.9086.jpg', 'semisuper_1933_467_593_664_789_Psoriasis_nail_knuc.jpg', 'semisuper_871_1231_202_1450_421_leukonychia_jpg.rf.jpg', 'semisuper_1504_676_50_984_357_upper_onycholysis_jp.jpg', 'semisuper_395_1374_675_1795_1138_4002864444e470f51.jpg', 'semisuper_1966_142_217_611_686_200303fig2_jpg.rf.7.jpg', 'semisuper_491_430_328_622_520_fig_6j-19-_jpg.rf.90.jpg', 'semisuper_2218_727_435_1160_868_2a_jpg.rf.8187f881.jpg', 'semisuper_418_183_228_517_563_026484HB_jpg.rf.4136.jpg', 'semisuper_1048_59_364_480_786_card1347213697570_jp.jpg', 'semisuper_873_957_287_1185_514_leukonychia_jpg.rf..jpg', 'semisuper_846_539_363_774_597_fig_5j-16-_jpg.rf.17.jpg', 'Screen-Shot-2021-11-22-at-5-29-14-PM_png_jpg.rf.46.jpg', 'IMG-20230829-WA0192-1_jpg.rf.c59b6ea1e19b71eb47912.jpg', 'IMG-20230829-WA0127-1_jpg.rf.f6ed46065a7245bcabd59.jpg', 'IMG-20230823-WA0007-1_jpg.rf.bbfd835f0cdd8cfe096d7.jpg', '622f0b58270cd-cara-memutihkan-kuku_1265_711-768x43.jpg', 'IMG-20230829-WA0136-1_jpg.rf.9d90fafaa95265786fd51.jpg', '800px-onycholysis-left-hand-34yo-male-ring-and-lit.jpg', 'IMG-20230802-WA0008_jpg.rf.0dcd61bf7440e6d1ae4f46f.jpg', 'IMG-20230802-WA0008_jpg.rf.6b3beb6d2184d30f36500c1.jpg', 'IMG-20230829-WA0166-1_jpg.rf.121705cc2e645a9d2aa54.jpg', '21-1_jpg.rf.55d8f8640c6b362ead462a3c6ddb5b9a.jpg.jpg', '21-1_jpg.rf.98f5d450fa2d18c386864588184d73e1.jpg.jpg', '32-1_jpg.rf.3678b624a277904dafcfd02f465060e0.jpg.jpg', 'IMG-20230829-WA0173-1_jpg.rf.10bd34c30dd0f8806cd6b.jpg', 'IMG-20230829-WA0156-1_jpg.rf.931a078fb207190033b5d.jpg', 'IMG-20230829-WA0171-1_jpg.rf.8adb35c4c8a76b83a8ce4.jpg', '12-1_jpg.rf.98a283d807078fded1e4661ae40c939b.jpg.jpg', 'IMG-20230823-WA0004-1_jpg.rf.b4c7abfb71481a2599006.jpg', 'akurat_20200120022903_V4B93v-1_jpg.rf.5254ff0e31af.jpg', '7-1_jpg.rf.eab9de2b72c24c42e1115fef4145cdb7.jpg.jpg', 'IMG-20230829-WA0157-1_jpg.rf.7d2151de1b10a36847885.jpg', '32-1_jpg.rf.93844148133ea8d9e3a7548cc7117d77.jpg.jpg', 'IMG-20230829-WA0190-1_jpg.rf.7c7c0e750a474e58b9acc.jpg', '33-1_jpg.rf.a61e9966a3db3ea22faaa31659881133.jpg.jpg', '1392807016-1_jpg.rf.6e327bb6804ffa5554f5208ccf2178.jpg', '12_1-1_jpg.rf.b75509bff7ba6ad957248fa59a8bfbdb.jpg.jpg', 'IMG-20230829-WA0174-1_jpg.rf.798dee88af11e12f88723.jpg', 'IMG-20230829-WA0132-1_jpg.rf.88c9000d768399bed327d.jpg', 'IMG-20230829-WA0156-1_jpg.rf.62ec4b431462cf2453961.jpg', 'IMG-20230829-WA0165-1_jpg.rf.d2aa80f80ed2ab146f9da.jpg', '33-1_jpg.rf.bbe4160380e68232908e2e980f492a58.jpg.jpg', '34-1_jpg.rf.fa03d870852b04e1dff6f9741b8165b9.jpg.jpg', '27-1_jpg.rf.4ac5148d27e2254a5f0cca8a072387dd.jpg.jpg', '584f8f39c17d3-inilah-arti-tanda-setengah-lingkaran.jpg', 'IMG-20230829-WA0132-1_jpg.rf.224ca1f9185d5487f0099.jpg', '1-1_jpg.rf.2aa5f06804196545cebdfc0321e9f4b7.jpg.jpg', 'IMG-20230829-WA0187-1_jpg.rf.4e3cc041a7279505b4dfc.jpg', 'IMG-20230829-WA0190-1_jpg.rf.ba5e457bdaf54929e79a5.jpg', '5-1_jpg.rf.8f3783987e5f88a7d1cdc655a96cb7e9.jpg.jpg', 'HJJ_jpg.rf.01b713d5e06f08fdb1ec05bc4f250912.jpg.jpg', 'IMG-20230829-WA0129-1_jpg.rf.d3e6f6691ca3a22673046.jpg', 'IMG-20230829-WA0171-1_jpg.rf.7de43570ac02ce6578440.jpg', '1-2_jpg.rf.f8ce0457b0924258849a1d0209ae3f4d.jpg.jpg', '6_1-1_jpg.rf.d910325e7a764ab20d41d6ea478c2132.jpg.jpg', 'IMG-20230829-WA0169-1_jpg.rf.364968f434020e4b7a72c.jpg', '12_1-1_jpg.rf.add41c3e8ddd3a775c8234546cebf0d2.jpg.jpg', '10_1_jpg.rf.f2179fdbf0e8efec0d123b962096f950.jpg.jpg', '6-1_jpg.rf.1dd5e08ef6c09f950669579d757dd537.jpg.jpg', 'IMG-20230829-WA0166-1_jpg.rf.99e6f14e46283fab6c0ab.jpg', 'IMG-20230829-WA0135-1_jpg.rf.5b125298f49b8c3812cbe.jpg', 'IMG-20230829-WA0192-1_jpg.rf.0f49a47a8082ce72cee4f.jpg', 'kuku3-1_jpg.rf.322727921660c0f9832e29e3d39e5435.jp.jpg', 'IMG-20230829-WA0173-1_jpg.rf.24c05e5ac5dff70b7a4e8.jpg', 'IMG-20230829-WA0138-1_jpg.rf.a034ad277b558d3e81d0b.jpg', '10_1_jpg.rf.38a8883e8c9e2dcf0a596c208b5a76b3.jpg.jpg', 'IMG-20230829-WA0187-1_jpg.rf.a9b45c33dc0f2ada8e2f7.jpg', '1392807016-1_jpg.rf.fd6ab440e3c74ae88081d1eddf3dff.jpg', '1-2_jpg.rf.01cf48a0496509ef6008e133084073d1.jpg.jpg', 'IMG-20230829-WA0169-1_jpg.rf.940dda020d06905c3d09f.jpg', 'IMG-20230829-WA0170-1_jpg.rf.4c2dc91eba31e963031bc.jpg', 'IMG-20230817-WA0007-1_jpg.rf.112f11a5f3e5f2334e1e0.jpg', 'IMG-20230829-WA0161-1_jpg.rf.fdb9448d6435aac33f699.jpg', '1392807016-1_jpg.rf.1cf23b1baa193cc96cfcbcea89fb7a.jpg', '34-1_jpg.rf.48e6d469cd83036c194cecd6f03005c2.jpg.jpg', 'sht3-1_jpg.rf.bb7265cb3a4f519f3d56ff74866a8827.jpg.jpg', 'IMG-20230829-WA0187-1_jpg.rf.14617018ef8df36b73aea.jpg', 'IMG-20230829-WA0165-1_jpg.rf.8b0f45e79996d519470c3.jpg', '11_1-1_jpg.rf.ca1ef65e7ee3eb72a503126a388378bc.jpg.jpg', 'IMG-20230817-WA0007-1_jpg.rf.f2a43a09556f53bc88686.jpg', 'IMG-20230829-WA0127-1_jpg.rf.489405a21eab33489356f.jpg', 'IMG-20230829-WA0190-1_jpg.rf.5bd4c923e1a8c4d84af7e.jpg', 'IMG-20230829-WA0174-1_jpg.rf.1882629fb43bed6cd8ede.jpg', '12-1_jpg.rf.30a89a47df218abbfb1dd5e6a2b4429f.jpg.jpg', 'sht-1_jpg.rf.fc65f6654996aed4c9945566d8cb0f0c.jpg.jpg', '23-1_jpg.rf.955305edc0b9005f7221a09034cdad11.jpg.jpg', 'IMG-20230829-WA0155-1_jpg.rf.ad6201f9cbfd3ff264616.jpg', '5-1_jpg.rf.c96ad4909e405e7ddb7e4a269306aa21.jpg.jpg', '7_1_jpg.rf.5df57edaa86596b644aec4b6f5740319.jpg.jpg', '3_1-1_jpg.rf.a9466fed2991f6db5e12ef2e7954b865.jpg.jpg', '23-1_jpg.rf.285c070a49553aeb91dfde481fe54360.jpg.jpg', '005923700_1491800543-007885300_1488264118-wa-1_jpg.jpg', '12_1-1_jpg.rf.eca71a1dee62c248237b7798ff0b313b.jpg.jpg', 'IMG-20230829-WA0136-1_jpg.rf.f7b16cdfbe07e6eee68e6.jpg', 'IMG-20230829-WA0155-1_jpg.rf.51555c1fbd8cc10da17d2.jpg', 'onychomadesis-b71cf5544ecf6a8f155497e9f7c7d301_600.jpg', 'IMG-20230823-WA0009-1_jpg.rf.db0bbf9ea8a32a166b8f0.jpg', 'IMG-20230829-WA0157-1_jpg.rf.413d0b2f163191bca3667.jpg', 'IMG-20230829-WA0172-1_jpg.rf.1b1139fc57cebe35289a1.jpg', 'IMG-20230829-WA0192-1_jpg.rf.222148595d8414d225ece.jpg', 'IMG-20230829-WA0173-1_jpg.rf.37218830b64af49fdddd0.jpg', 'IMG-20230829-WA0138-1_jpg.rf.c90f5ba8bc8d4f492cb1b.jpg', '5-1_jpg.rf.7bbb8ae06e345692af35b74b9026be8c.jpg.jpg', 'IMG-20230829-WA0129-1_jpg.rf.9df39c44d347bfeae773d.jpg', '2_1-1_jpg.rf.f2ccc175dbbbb15c76c56a92f93e2cfb.jpg.jpg', '32-1_jpg.rf.51bf37d2569c1ce5f73296d48661b97a.jpg.jpg', 'IMG-20230817-WA0007-1_jpg.rf.4a13e05c8bb2b87c69da7.jpg', 'IMG-20230829-WA0137-1_jpg.rf.cf94d9bad2846eebb1af1.jpg', 'Onikolisis-1_jpg.rf.9ed70e124346c6af4c1d82a70f665c.jpg', '34-1_jpg.rf.8db053f03dd3926f27f521bcce124ed8.jpg.jpg', '11_1-1_jpg.rf.cac9c1b8f99feaec04c07f99e8248c2e.jpg.jpg', 'IMG-20230829-WA0170-1_jpg.rf.7a1d24231b15d6a9ec510.jpg', 'HJJ_jpg.rf.4feac4a0d05eb261c6185a3a01515b20.jpg.jpg', '1-1_jpg.rf.cae788210dab7f9ea3c1e3b9acb818db.jpg.jpg', 'IMG-20230829-WA0169-1_jpg.rf.451174c0a687f94f40a9f.jpg', '8_1-1_jpg.rf.0df74750d46da763a7a9d714d5b8d937.jpg.jpg', 'IMG-20230829-WA0165-1_jpg.rf.3a8491d57d8f1b2901e2d.jpg', 'IMG-20230829-WA0172-1_jpg.rf.d2284aee00c537422e112.jpg', 'IMG-20230829-WA0156-1_jpg.rf.6a3577ce94ad20f77dbc0.jpg', 'IMG-20230829-WA0188-1_jpg.rf.79b7b53db2baff4e89dd0.jpg', 'IMG-20230829-WA0172-1_jpg.rf.56f6421b013a046c312f9.jpg', 'IMG-20230802-WA0008_jpg.rf.9cb1b68abf4440172041545.jpg', '11_1-1_jpg.rf.2aba3150ec8d52c36de169adc31102e2.jpg.jpg', 'IMG-20230829-WA0134-1_jpg.rf.2d5280e44f4dd28553f37.jpg', 'IMG-20230829-WA0127-1_jpg.rf.e8ef911d1c649653c537c.jpg', 'cara-merawat-kuku-1_jpg.rf.29a0a3096902007a8fd1667.jpg', '7-1_jpg.rf.71c3576b34811a4dfafba1acdbc05b3d.jpg.jpg', '6-1_jpg.rf.ffccb7f640209f40648af0ba79806b29.jpg.jpg', '8_1-1_jpg.rf.bc7f4eca1743ee0957081e5a083abab5.jpg.jpg', 'kuku3-1_jpg.rf.b3ea2e069d6717a22a9d1a47911bef9e.jp.jpg', 'IMG-20230829-WA0174-1_jpg.rf.736a0fb1b536f5e581e67.jpg', '7-1_jpg.rf.d1734c67eb33f1779ee86d73fe3e52bd.jpg.jpg', '12-1_jpg.rf.c0109e42b5ac430c260bc7d56eb7322f.jpg.jpg', '21-1_jpg.rf.71fcc11c56cc765a14205a0a8ca3abf6.jpg.jpg', 'IMG-20230829-WA0137-1_jpg.rf.6ff3ce6a71152d89fc76c.jpg', '5_1-1_jpg.rf.78c9704fa4d991360902c9c7a90c9f84.jpg.jpg', 'HJJ_jpg.rf.a12a5ddb3dab21b796990841119ff3f8.jpg.jpg', '1-1_jpg.rf.0c5e18bf83f0d132dbea3fea6e7be8c1.jpg.jpg', 'IMG-20230829-WA0136-1_jpg.rf.30032f32db0ede638e109.jpg', 'IMG-20230829-WA0170-1_jpg.rf.0ee6e3c0a44b6adeda0fe.jpg', 'IMG-20230829-WA0166-1_jpg.rf.0c60a73633b0245850d83.jpg', 'IMG-20230823-WA0008-1_jpg.rf.582fa779a5784a239c6dc.jpg', 'kuku3-1_jpg.rf.2a1ca369c3006ec968f73ebaf075c650.jp.jpg', 'IMG-20230823-WA0007-1_jpg.rf.03eb41264aa75d4379573.jpg', '10_1_jpg.rf.1160303bed74d17fa92e58eecbda6734.jpg.jpg', 'IMG-20230829-WA0132-1_jpg.rf.884438a7fb85ce1d00db5.jpg', 'IMG-20230829-WA0186-1_jpg.rf.14971bd04fbc811c3b176.jpg', 'IMG-20230829-WA0137-1_jpg.rf.9756bea5788398353c777.jpg', '23-1_jpg.rf.3bb98802c552fc9e5837103272cb0e8b.jpg.jpg', 'IMG-20230829-WA0129-1_jpg.rf.51442491fdeb934dcb356.jpg', '6-1_jpg.rf.de84c2c36de8bfdb9d5716d1f1d0ede0.jpg.jpg', 'IMG-20230823-WA0007-1_jpg.rf.087e082365e3f4435b3f7.jpg', 'IMG-20230829-WA0138-1_jpg.rf.9b981a64f1b0711caaea0.jpg', '1-2_jpg.rf.20364d0c2d7dff8c63b2efd8178178e8.jpg.jpg', 'IMG-20230829-WA0171-1_jpg.rf.3420169038c9c339882a8.jpg', '8_1-1_jpg.rf.3cd0522e1de83d18ea9ad350f778e17c.jpg.jpg', '33-1_jpg.rf.cf9f391e7f67d9156733976af11e83b4.jpg.jpg', 'IMG-20230829-WA0157-1_jpg.rf.0944b65cfa98491dc50c6.jpg', 'IMG-20230829-WA0155-1_jpg.rf.5b15b1adf17ae9a533258.jpg', '7_1-1_jpg.rf.7194067b2e5164e6b6a0eec664606fb6.jpg.jpg', '043_jpg.rf.28e249425ec879188aa1b060fcb80c9f.jpg.jpg', '028_jpg.rf.0afa3de8cbc98b9e0c6a27356b7e31d1.jpg.jpg', '025_jpg.rf.791b2e33a638d3b9b095542b27418d18.jpg.jpg', '017_jpg.rf.1539b04f73f3be42b340fa6bcfbaeb25.jpg.jpg', '001_jpg.rf.2490e81b1a370fdde51a907b4e795ac9.jpg.jpg', '044_jpg.rf.31281984a001f783429de394b4537db1.jpg.jpg', '092_jpg.rf.31ceeed70d9e7549007909fb7f976dec.jpg.jpg', '008_jpg.rf.07f42e148bcf0d523c7a7c031eaf04aa.jpg.jpg', '077_jpg.rf.04b6268996563d5257d290110e887142.jpg.jpg', '019_jpg.rf.1e2e502b965ea0bddebb8cef8608fa52.jpg.jpg', '045_jpg.rf.8280918a0e33a36de196464867eef9ef.jpg.jpg', '078_jpg.rf.21330a80ab925427f4ff843ed271f187.jpg.jpg', '044_jpg.rf.00a71efbc13af7524c746fed8c0975b5.jpg.jpg', '001_jpg.rf.33f375d2db776ab57de75422ff788717.jpg.jpg', '047_jpg.rf.e058ab5d0f72d47326aff66c7fe81c05.jpg.jpg', '077_jpg.rf.c7a680d861505939ebb3c541507611ba.jpg.jpg', '028_jpg.rf.deb146ff09de36ff72e05617b1603da8.jpg.jpg', '030_jpg.rf.42342b68297be9ea6a0660053c400244.jpg.jpg', '017_jpg.rf.3b16241c70f8eca3de172e158fe768d4.jpg.jpg', '082_jpg.rf.cd2441ba85a01445df41e578711687cf.jpg.jpg', '018_jpg.rf.4e5ec46df2b90e3f94b42e7da8f3c51b.jpg.jpg', '028_jpg.rf.f0223a4b5e787d552e151d816ffb4b66.jpg.jpg', '092_jpg.rf.adfbe0c3accbee3e94a2a6e86c50566f.jpg.jpg', '013_jpg.rf.5805f2f101cd72c0e42e83ed37129be7.jpg.jpg', '043_jpg.rf.563f2831c410fa76b278cab66550fd09.jpg.jpg', '038_jpg.rf.ee965d006931ef1210e0ccc0a8219063.jpg.jpg', '013_jpg.rf.3fee3b1cbd2d5ecfeb17eb472ed2919d.jpg.jpg', '016_jpg.rf.f8439c209f4b3c0b71e0d5ad4a020e0c.jpg.jpg', '016_jpg.rf.de0e52563c47eafeab632bd597c0905a.jpg.jpg', '008_jpg.rf.d4f8d13ceafe64524bc6cbd55c5c1853.jpg.jpg', '015_jpg.rf.255c43c0ef8169911b008e2a04cd1537.jpg.jpg', '014_jpg.rf.eb88aae880244dd223ddd954573f6778.jpg.jpg', '002_jpg.rf.6d782f6c99275a04a3ea421db0e6e9e1.jpg.jpg', '016_jpg.rf.9956d60a2a4aa7ceafa01f1840586f0e.jpg.jpg', '044_jpg.rf.4a6686c380698f7e332f846e7bd1ec35.jpg.jpg', '047_jpg.rf.a39469411d2424f35ee37c5c882962ed.jpg.jpg', '008_jpg.rf.a8d30ce7fd6cf0c0ec28e8ea5d1480d4.jpg.jpg', '038_jpg.rf.ad3b89e959390c136dcae77ebdc94fe1.jpg.jpg', '002_jpg.rf.3bda83f65b7e868204f811655f675045.jpg.jpg', '014_jpg.rf.db903475a14115f74530ab7d5e7fa224.jpg.jpg', '092_jpg.rf.ceb21c3e698393de359fb04cefe88edc.jpg.jpg', '019_jpg.rf.9d55a5cb01ac415c3c4dbb75b0a1901b.jpg.jpg', '077_jpg.rf.88134e678425b85c6226fd61af57fc4a.jpg.jpg', '013_jpg.rf.395f2067e17bf15e6e66df38d30734fc.jpg.jpg', '001_jpg.rf.a4c6d99c4a54aac0be802bb839361186.jpg.jpg', '048_jpg.rf.a95a8faf0d2af65c1abec13151cff1f1.jpg.jpg', '017_jpg.rf.32faf5ee9320b501827c732056a9c073.jpg.jpg', '018_jpg.rf.6ccf7faee509c3dde6f83f04b5e13984.jpg.jpg', '043_jpg.rf.f77c2642d2a4bc9f5f9ea950c4e16cbe.jpg.jpg', '019_jpg.rf.896b4e793ea6170775ddc008e895a900.jpg.jpg', '018_jpg.rf.4a083dc94be1bb385bbb9bc1d239afb9.jpg.jpg', '014_jpg.rf.ea6494fe4a3f94a9f216cde76a9dfb23.jpg.jpg', '038_jpg.rf.542b6aa24edd2983b5bf8782c7d9889e.jpg.jpg', '002_jpg.rf.deebdbd6f35bc0f61e7d5c6664c2b36c.jpg.jpg', '047_jpg.rf.dd1bd59ff84516e81520c754a074ec84.jpg.jpg']\n"
          ]
        }
      ]
    },
    {
      "cell_type": "code",
      "source": [
        "from glob import glob\n",
        "print(\"Jumlah gambar di folder diabetes:\", len(glob(f\"{base_dir}/diabetes/*.jpg\")))\n",
        "print(\"Jumlah gambar di folder sehat:\", len(glob(f\"{base_dir}/sehat/*.jpg\")))\n"
      ],
      "metadata": {
        "colab": {
          "base_uri": "https://localhost:8080/"
        },
        "id": "4lIf0p19mpyR",
        "outputId": "3f1b8696-5dbd-457e-ece4-57d7dd28d014"
      },
      "execution_count": null,
      "outputs": [
        {
          "output_type": "stream",
          "name": "stdout",
          "text": [
            "Jumlah gambar di folder diabetes: 595\n",
            "Jumlah gambar di folder sehat: 591\n"
          ]
        }
      ]
    },
    {
      "cell_type": "code",
      "source": [
        "import tensorflow as tf\n",
        "from tensorflow.keras.preprocessing.image import ImageDataGenerator\n",
        "from tensorflow.keras.models import Sequential\n",
        "from tensorflow.keras.layers import Conv2D, MaxPooling2D, Flatten, Dense, Dropout\n",
        "from tensorflow.keras.optimizers import Adam\n",
        "from tensorflow.keras.callbacks import EarlyStopping, ReduceLROnPlateau\n"
      ],
      "metadata": {
        "id": "f7gqbb9GmtW5"
      },
      "execution_count": null,
      "outputs": []
    },
    {
      "cell_type": "code",
      "source": [
        "# Parameter\n",
        "IMG_HEIGHT = 100\n",
        "IMG_WIDTH = 150\n",
        "BATCH_SIZE = 32\n",
        "EPOCHS = 50\n",
        "\n",
        "# Data Augmentasi untuk Training\n",
        "train_datagen = ImageDataGenerator(\n",
        "    rescale=1./255,\n",
        "    rotation_range=10,\n",
        "    zoom_range=0.1,\n",
        "    horizontal_flip=True,\n",
        "    validation_split=0.2\n",
        ")\n",
        "\n",
        "\n",
        "# Data Generator untuk Validasi (tanpa augmentasi)\n",
        "validation_datagen = ImageDataGenerator(rescale=1./255)\n",
        "\n"
      ],
      "metadata": {
        "id": "JqSIGXQim115"
      },
      "execution_count": null,
      "outputs": []
    },
    {
      "cell_type": "code",
      "source": [
        "train_generator = train_datagen.flow_from_directory(\n",
        "    base_dir,\n",
        "    target_size=(IMG_HEIGHT, IMG_WIDTH),\n",
        "    batch_size=BATCH_SIZE,\n",
        "    class_mode='binary',\n",
        "    subset='training',\n",
        "    shuffle=True\n",
        ")\n",
        "\n",
        "validation_generator = train_datagen.flow_from_directory(\n",
        "    base_dir,\n",
        "    target_size=(IMG_HEIGHT, IMG_WIDTH),\n",
        "    batch_size=BATCH_SIZE,\n",
        "    class_mode='binary',\n",
        "    subset='validation'\n",
        ")\n",
        "\n",
        "\n"
      ],
      "metadata": {
        "colab": {
          "base_uri": "https://localhost:8080/"
        },
        "id": "F_YjEGD4m5RK",
        "outputId": "7b4dc586-12a7-4f7c-efe2-4a78c97c8a69"
      },
      "execution_count": null,
      "outputs": [
        {
          "output_type": "stream",
          "name": "stdout",
          "text": [
            "Found 949 images belonging to 2 classes.\n",
            "Found 237 images belonging to 2 classes.\n"
          ]
        }
      ]
    },
    {
      "cell_type": "code",
      "source": [
        "print(f\"Jumlah data latih: {train_generator.samples}\")\n",
        "print(f\"Jumlah data validasi: {validation_generator.samples}\")\n",
        "\n",
        "if train_generator.samples == 0 or validation_generator.samples == 0:\n",
        "    raise ValueError(\"Dataset tidak terdeteksi atau kosong! Periksa path dan struktur folder.\")\n"
      ],
      "metadata": {
        "colab": {
          "base_uri": "https://localhost:8080/"
        },
        "id": "WtvcX18DprEv",
        "outputId": "2689b12b-abc2-443c-a8ec-346a24fe5866"
      },
      "execution_count": null,
      "outputs": [
        {
          "output_type": "stream",
          "name": "stdout",
          "text": [
            "Jumlah data latih: 949\n",
            "Jumlah data validasi: 237\n"
          ]
        }
      ]
    },
    {
      "cell_type": "code",
      "source": [
        "optimizer = tf.keras.optimizers.Adam(learning_rate=0.0001)\n",
        "model.compile(optimizer=optimizer, loss='binary_crossentropy', metrics=['accuracy'])\n"
      ],
      "metadata": {
        "id": "kcsNR6fFr_jw"
      },
      "execution_count": null,
      "outputs": []
    },
    {
      "cell_type": "code",
      "source": [
        "model = tf.keras.Sequential([\n",
        "    tf.keras.layers.Conv2D(32, (3, 3), activation='relu', input_shape=(100, 150, 3)),\n",
        "    tf.keras.layers.MaxPooling2D(2, 2),\n",
        "    tf.keras.layers.Conv2D(64, (3, 3), activation='relu'),\n",
        "    tf.keras.layers.MaxPooling2D(2, 2),\n",
        "    tf.keras.layers.Conv2D(128, (3, 3), activation='relu'),\n",
        "    tf.keras.layers.MaxPooling2D(2, 2),\n",
        "    tf.keras.layers.Flatten(),\n",
        "    tf.keras.layers.Dense(128, activation='relu'),\n",
        "    tf.keras.layers.Dropout(0.5),\n",
        "    tf.keras.layers.Dense(1, activation='sigmoid')\n",
        "])\n",
        "\n",
        "model.compile(optimizer=tf.keras.optimizers.Adam(learning_rate=0.0001),\n",
        "              loss='binary_crossentropy',\n",
        "              metrics=['accuracy'])\n"
      ],
      "metadata": {
        "id": "jUs94CFSnEDB"
      },
      "execution_count": null,
      "outputs": []
    },
    {
      "cell_type": "code",
      "source": [
        "\n",
        "model.summary()"
      ],
      "metadata": {
        "colab": {
          "base_uri": "https://localhost:8080/",
          "height": 476
        },
        "id": "_79VlVwTsGCR",
        "outputId": "c2bc7e72-63c2-4d41-c034-30b24cada3af"
      },
      "execution_count": null,
      "outputs": [
        {
          "output_type": "display_data",
          "data": {
            "text/plain": [
              "\u001b[1mModel: \"sequential_9\"\u001b[0m\n"
            ],
            "text/html": [
              "<pre style=\"white-space:pre;overflow-x:auto;line-height:normal;font-family:Menlo,'DejaVu Sans Mono',consolas,'Courier New',monospace\"><span style=\"font-weight: bold\">Model: \"sequential_9\"</span>\n",
              "</pre>\n"
            ]
          },
          "metadata": {}
        },
        {
          "output_type": "display_data",
          "data": {
            "text/plain": [
              "┏━━━━━━━━━━━━━━━━━━━━━━━━━━━━━━━━━━━━━━┳━━━━━━━━━━━━━━━━━━━━━━━━━━━━━┳━━━━━━━━━━━━━━━━━┓\n",
              "┃\u001b[1m \u001b[0m\u001b[1mLayer (type)                        \u001b[0m\u001b[1m \u001b[0m┃\u001b[1m \u001b[0m\u001b[1mOutput Shape               \u001b[0m\u001b[1m \u001b[0m┃\u001b[1m \u001b[0m\u001b[1m        Param #\u001b[0m\u001b[1m \u001b[0m┃\n",
              "┡━━━━━━━━━━━━━━━━━━━━━━━━━━━━━━━━━━━━━━╇━━━━━━━━━━━━━━━━━━━━━━━━━━━━━╇━━━━━━━━━━━━━━━━━┩\n",
              "│ conv2d_15 (\u001b[38;5;33mConv2D\u001b[0m)                   │ (\u001b[38;5;45mNone\u001b[0m, \u001b[38;5;34m98\u001b[0m, \u001b[38;5;34m148\u001b[0m, \u001b[38;5;34m32\u001b[0m)         │             \u001b[38;5;34m896\u001b[0m │\n",
              "├──────────────────────────────────────┼─────────────────────────────┼─────────────────┤\n",
              "│ max_pooling2d_15 (\u001b[38;5;33mMaxPooling2D\u001b[0m)      │ (\u001b[38;5;45mNone\u001b[0m, \u001b[38;5;34m49\u001b[0m, \u001b[38;5;34m74\u001b[0m, \u001b[38;5;34m32\u001b[0m)          │               \u001b[38;5;34m0\u001b[0m │\n",
              "├──────────────────────────────────────┼─────────────────────────────┼─────────────────┤\n",
              "│ conv2d_16 (\u001b[38;5;33mConv2D\u001b[0m)                   │ (\u001b[38;5;45mNone\u001b[0m, \u001b[38;5;34m47\u001b[0m, \u001b[38;5;34m72\u001b[0m, \u001b[38;5;34m64\u001b[0m)          │          \u001b[38;5;34m18,496\u001b[0m │\n",
              "├──────────────────────────────────────┼─────────────────────────────┼─────────────────┤\n",
              "│ max_pooling2d_16 (\u001b[38;5;33mMaxPooling2D\u001b[0m)      │ (\u001b[38;5;45mNone\u001b[0m, \u001b[38;5;34m23\u001b[0m, \u001b[38;5;34m36\u001b[0m, \u001b[38;5;34m64\u001b[0m)          │               \u001b[38;5;34m0\u001b[0m │\n",
              "├──────────────────────────────────────┼─────────────────────────────┼─────────────────┤\n",
              "│ conv2d_17 (\u001b[38;5;33mConv2D\u001b[0m)                   │ (\u001b[38;5;45mNone\u001b[0m, \u001b[38;5;34m21\u001b[0m, \u001b[38;5;34m34\u001b[0m, \u001b[38;5;34m128\u001b[0m)         │          \u001b[38;5;34m73,856\u001b[0m │\n",
              "├──────────────────────────────────────┼─────────────────────────────┼─────────────────┤\n",
              "│ max_pooling2d_17 (\u001b[38;5;33mMaxPooling2D\u001b[0m)      │ (\u001b[38;5;45mNone\u001b[0m, \u001b[38;5;34m10\u001b[0m, \u001b[38;5;34m17\u001b[0m, \u001b[38;5;34m128\u001b[0m)         │               \u001b[38;5;34m0\u001b[0m │\n",
              "├──────────────────────────────────────┼─────────────────────────────┼─────────────────┤\n",
              "│ flatten_5 (\u001b[38;5;33mFlatten\u001b[0m)                  │ (\u001b[38;5;45mNone\u001b[0m, \u001b[38;5;34m21760\u001b[0m)               │               \u001b[38;5;34m0\u001b[0m │\n",
              "├──────────────────────────────────────┼─────────────────────────────┼─────────────────┤\n",
              "│ dense_18 (\u001b[38;5;33mDense\u001b[0m)                     │ (\u001b[38;5;45mNone\u001b[0m, \u001b[38;5;34m128\u001b[0m)                 │       \u001b[38;5;34m2,785,408\u001b[0m │\n",
              "├──────────────────────────────────────┼─────────────────────────────┼─────────────────┤\n",
              "│ dropout_15 (\u001b[38;5;33mDropout\u001b[0m)                 │ (\u001b[38;5;45mNone\u001b[0m, \u001b[38;5;34m128\u001b[0m)                 │               \u001b[38;5;34m0\u001b[0m │\n",
              "├──────────────────────────────────────┼─────────────────────────────┼─────────────────┤\n",
              "│ dense_19 (\u001b[38;5;33mDense\u001b[0m)                     │ (\u001b[38;5;45mNone\u001b[0m, \u001b[38;5;34m1\u001b[0m)                   │             \u001b[38;5;34m129\u001b[0m │\n",
              "└──────────────────────────────────────┴─────────────────────────────┴─────────────────┘\n"
            ],
            "text/html": [
              "<pre style=\"white-space:pre;overflow-x:auto;line-height:normal;font-family:Menlo,'DejaVu Sans Mono',consolas,'Courier New',monospace\">┏━━━━━━━━━━━━━━━━━━━━━━━━━━━━━━━━━━━━━━┳━━━━━━━━━━━━━━━━━━━━━━━━━━━━━┳━━━━━━━━━━━━━━━━━┓\n",
              "┃<span style=\"font-weight: bold\"> Layer (type)                         </span>┃<span style=\"font-weight: bold\"> Output Shape                </span>┃<span style=\"font-weight: bold\">         Param # </span>┃\n",
              "┡━━━━━━━━━━━━━━━━━━━━━━━━━━━━━━━━━━━━━━╇━━━━━━━━━━━━━━━━━━━━━━━━━━━━━╇━━━━━━━━━━━━━━━━━┩\n",
              "│ conv2d_15 (<span style=\"color: #0087ff; text-decoration-color: #0087ff\">Conv2D</span>)                   │ (<span style=\"color: #00d7ff; text-decoration-color: #00d7ff\">None</span>, <span style=\"color: #00af00; text-decoration-color: #00af00\">98</span>, <span style=\"color: #00af00; text-decoration-color: #00af00\">148</span>, <span style=\"color: #00af00; text-decoration-color: #00af00\">32</span>)         │             <span style=\"color: #00af00; text-decoration-color: #00af00\">896</span> │\n",
              "├──────────────────────────────────────┼─────────────────────────────┼─────────────────┤\n",
              "│ max_pooling2d_15 (<span style=\"color: #0087ff; text-decoration-color: #0087ff\">MaxPooling2D</span>)      │ (<span style=\"color: #00d7ff; text-decoration-color: #00d7ff\">None</span>, <span style=\"color: #00af00; text-decoration-color: #00af00\">49</span>, <span style=\"color: #00af00; text-decoration-color: #00af00\">74</span>, <span style=\"color: #00af00; text-decoration-color: #00af00\">32</span>)          │               <span style=\"color: #00af00; text-decoration-color: #00af00\">0</span> │\n",
              "├──────────────────────────────────────┼─────────────────────────────┼─────────────────┤\n",
              "│ conv2d_16 (<span style=\"color: #0087ff; text-decoration-color: #0087ff\">Conv2D</span>)                   │ (<span style=\"color: #00d7ff; text-decoration-color: #00d7ff\">None</span>, <span style=\"color: #00af00; text-decoration-color: #00af00\">47</span>, <span style=\"color: #00af00; text-decoration-color: #00af00\">72</span>, <span style=\"color: #00af00; text-decoration-color: #00af00\">64</span>)          │          <span style=\"color: #00af00; text-decoration-color: #00af00\">18,496</span> │\n",
              "├──────────────────────────────────────┼─────────────────────────────┼─────────────────┤\n",
              "│ max_pooling2d_16 (<span style=\"color: #0087ff; text-decoration-color: #0087ff\">MaxPooling2D</span>)      │ (<span style=\"color: #00d7ff; text-decoration-color: #00d7ff\">None</span>, <span style=\"color: #00af00; text-decoration-color: #00af00\">23</span>, <span style=\"color: #00af00; text-decoration-color: #00af00\">36</span>, <span style=\"color: #00af00; text-decoration-color: #00af00\">64</span>)          │               <span style=\"color: #00af00; text-decoration-color: #00af00\">0</span> │\n",
              "├──────────────────────────────────────┼─────────────────────────────┼─────────────────┤\n",
              "│ conv2d_17 (<span style=\"color: #0087ff; text-decoration-color: #0087ff\">Conv2D</span>)                   │ (<span style=\"color: #00d7ff; text-decoration-color: #00d7ff\">None</span>, <span style=\"color: #00af00; text-decoration-color: #00af00\">21</span>, <span style=\"color: #00af00; text-decoration-color: #00af00\">34</span>, <span style=\"color: #00af00; text-decoration-color: #00af00\">128</span>)         │          <span style=\"color: #00af00; text-decoration-color: #00af00\">73,856</span> │\n",
              "├──────────────────────────────────────┼─────────────────────────────┼─────────────────┤\n",
              "│ max_pooling2d_17 (<span style=\"color: #0087ff; text-decoration-color: #0087ff\">MaxPooling2D</span>)      │ (<span style=\"color: #00d7ff; text-decoration-color: #00d7ff\">None</span>, <span style=\"color: #00af00; text-decoration-color: #00af00\">10</span>, <span style=\"color: #00af00; text-decoration-color: #00af00\">17</span>, <span style=\"color: #00af00; text-decoration-color: #00af00\">128</span>)         │               <span style=\"color: #00af00; text-decoration-color: #00af00\">0</span> │\n",
              "├──────────────────────────────────────┼─────────────────────────────┼─────────────────┤\n",
              "│ flatten_5 (<span style=\"color: #0087ff; text-decoration-color: #0087ff\">Flatten</span>)                  │ (<span style=\"color: #00d7ff; text-decoration-color: #00d7ff\">None</span>, <span style=\"color: #00af00; text-decoration-color: #00af00\">21760</span>)               │               <span style=\"color: #00af00; text-decoration-color: #00af00\">0</span> │\n",
              "├──────────────────────────────────────┼─────────────────────────────┼─────────────────┤\n",
              "│ dense_18 (<span style=\"color: #0087ff; text-decoration-color: #0087ff\">Dense</span>)                     │ (<span style=\"color: #00d7ff; text-decoration-color: #00d7ff\">None</span>, <span style=\"color: #00af00; text-decoration-color: #00af00\">128</span>)                 │       <span style=\"color: #00af00; text-decoration-color: #00af00\">2,785,408</span> │\n",
              "├──────────────────────────────────────┼─────────────────────────────┼─────────────────┤\n",
              "│ dropout_15 (<span style=\"color: #0087ff; text-decoration-color: #0087ff\">Dropout</span>)                 │ (<span style=\"color: #00d7ff; text-decoration-color: #00d7ff\">None</span>, <span style=\"color: #00af00; text-decoration-color: #00af00\">128</span>)                 │               <span style=\"color: #00af00; text-decoration-color: #00af00\">0</span> │\n",
              "├──────────────────────────────────────┼─────────────────────────────┼─────────────────┤\n",
              "│ dense_19 (<span style=\"color: #0087ff; text-decoration-color: #0087ff\">Dense</span>)                     │ (<span style=\"color: #00d7ff; text-decoration-color: #00d7ff\">None</span>, <span style=\"color: #00af00; text-decoration-color: #00af00\">1</span>)                   │             <span style=\"color: #00af00; text-decoration-color: #00af00\">129</span> │\n",
              "└──────────────────────────────────────┴─────────────────────────────┴─────────────────┘\n",
              "</pre>\n"
            ]
          },
          "metadata": {}
        },
        {
          "output_type": "display_data",
          "data": {
            "text/plain": [
              "\u001b[1m Total params: \u001b[0m\u001b[38;5;34m2,878,785\u001b[0m (10.98 MB)\n"
            ],
            "text/html": [
              "<pre style=\"white-space:pre;overflow-x:auto;line-height:normal;font-family:Menlo,'DejaVu Sans Mono',consolas,'Courier New',monospace\"><span style=\"font-weight: bold\"> Total params: </span><span style=\"color: #00af00; text-decoration-color: #00af00\">2,878,785</span> (10.98 MB)\n",
              "</pre>\n"
            ]
          },
          "metadata": {}
        },
        {
          "output_type": "display_data",
          "data": {
            "text/plain": [
              "\u001b[1m Trainable params: \u001b[0m\u001b[38;5;34m2,878,785\u001b[0m (10.98 MB)\n"
            ],
            "text/html": [
              "<pre style=\"white-space:pre;overflow-x:auto;line-height:normal;font-family:Menlo,'DejaVu Sans Mono',consolas,'Courier New',monospace\"><span style=\"font-weight: bold\"> Trainable params: </span><span style=\"color: #00af00; text-decoration-color: #00af00\">2,878,785</span> (10.98 MB)\n",
              "</pre>\n"
            ]
          },
          "metadata": {}
        },
        {
          "output_type": "display_data",
          "data": {
            "text/plain": [
              "\u001b[1m Non-trainable params: \u001b[0m\u001b[38;5;34m0\u001b[0m (0.00 B)\n"
            ],
            "text/html": [
              "<pre style=\"white-space:pre;overflow-x:auto;line-height:normal;font-family:Menlo,'DejaVu Sans Mono',consolas,'Courier New',monospace\"><span style=\"font-weight: bold\"> Non-trainable params: </span><span style=\"color: #00af00; text-decoration-color: #00af00\">0</span> (0.00 B)\n",
              "</pre>\n"
            ]
          },
          "metadata": {}
        }
      ]
    },
    {
      "cell_type": "code",
      "source": [
        "early_stopping = tf.keras.callbacks.EarlyStopping(monitor='val_loss', patience=5, restore_best_weights=True)\n",
        "reduce_lr = tf.keras.callbacks.ReduceLROnPlateau(monitor='val_loss', factor=0.5, patience=3, min_lr=1e-6)\n",
        "\n",
        "history = model.fit(\n",
        "    train_generator,\n",
        "    steps_per_epoch=train_generator.samples // BATCH_SIZE,\n",
        "    epochs=50,\n",
        "    validation_data=validation_generator,\n",
        "    validation_steps=validation_generator.samples // BATCH_SIZE,\n",
        "    callbacks=[early_stopping, reduce_lr]\n",
        ")\n"
      ],
      "metadata": {
        "colab": {
          "base_uri": "https://localhost:8080/"
        },
        "id": "ftxFc0BZnLnG",
        "outputId": "9ab61489-2897-4c3c-dda2-f3c695ec42d4"
      },
      "execution_count": null,
      "outputs": [
        {
          "output_type": "stream",
          "name": "stdout",
          "text": [
            "Epoch 1/50\n",
            "\u001b[1m29/29\u001b[0m \u001b[32m━━━━━━━━━━━━━━━━━━━━\u001b[0m\u001b[37m\u001b[0m \u001b[1m44s\u001b[0m 1s/step - accuracy: 0.6025 - loss: 0.6773 - val_accuracy: 0.4509 - val_loss: 0.7032 - learning_rate: 5.0000e-05\n",
            "Epoch 2/50\n",
            "\u001b[1m29/29\u001b[0m \u001b[32m━━━━━━━━━━━━━━━━━━━━\u001b[0m\u001b[37m\u001b[0m \u001b[1m1s\u001b[0m 5ms/step - accuracy: 0.6562 - loss: 0.6795 - val_accuracy: 0.6923 - val_loss: 0.6590 - learning_rate: 5.0000e-05\n",
            "Epoch 3/50\n",
            "\u001b[1m29/29\u001b[0m \u001b[32m━━━━━━━━━━━━━━━━━━━━\u001b[0m\u001b[37m\u001b[0m \u001b[1m42s\u001b[0m 1s/step - accuracy: 0.6346 - loss: 0.6651 - val_accuracy: 0.5179 - val_loss: 0.7056 - learning_rate: 5.0000e-05\n",
            "Epoch 4/50\n",
            "\u001b[1m29/29\u001b[0m \u001b[32m━━━━━━━━━━━━━━━━━━━━\u001b[0m\u001b[37m\u001b[0m \u001b[1m1s\u001b[0m 4ms/step - accuracy: 0.7812 - loss: 0.6129 - val_accuracy: 0.3846 - val_loss: 0.7255 - learning_rate: 5.0000e-05\n",
            "Epoch 5/50\n",
            "\u001b[1m29/29\u001b[0m \u001b[32m━━━━━━━━━━━━━━━━━━━━\u001b[0m\u001b[37m\u001b[0m \u001b[1m41s\u001b[0m 1s/step - accuracy: 0.6936 - loss: 0.6416 - val_accuracy: 0.4911 - val_loss: 0.7178 - learning_rate: 5.0000e-05\n",
            "Epoch 6/50\n",
            "\u001b[1m29/29\u001b[0m \u001b[32m━━━━━━━━━━━━━━━━━━━━\u001b[0m\u001b[37m\u001b[0m \u001b[1m6s\u001b[0m 157ms/step - accuracy: 0.7188 - loss: 0.6180 - val_accuracy: 0.5385 - val_loss: 0.7482 - learning_rate: 2.5000e-05\n",
            "Epoch 7/50\n",
            "\u001b[1m29/29\u001b[0m \u001b[32m━━━━━━━━━━━━━━━━━━━━\u001b[0m\u001b[37m\u001b[0m \u001b[1m42s\u001b[0m 1s/step - accuracy: 0.7415 - loss: 0.6138 - val_accuracy: 0.5223 - val_loss: 0.7254 - learning_rate: 2.5000e-05\n"
          ]
        }
      ]
    },
    {
      "cell_type": "code",
      "source": [
        "base_model = tf.keras.applications.MobileNetV2(input_shape=(100, 150, 3), include_top=False, weights='imagenet')\n",
        "base_model.trainable = False\n",
        "\n",
        "model = tf.keras.Sequential([\n",
        "    base_model,\n",
        "    tf.keras.layers.GlobalAveragePooling2D(),\n",
        "    tf.keras.layers.Dense(128, activation='relu'),\n",
        "    tf.keras.layers.Dropout(0.5),\n",
        "    tf.keras.layers.Dense(1, activation='sigmoid')\n",
        "])\n",
        "\n",
        "model.compile(optimizer='adam', loss='binary_crossentropy', metrics=['accuracy'])\n"
      ],
      "metadata": {
        "colab": {
          "base_uri": "https://localhost:8080/"
        },
        "id": "YgG64YyPtKzJ",
        "outputId": "c8a4b20f-dcc6-42c4-b59d-32e6fe4e60ce"
      },
      "execution_count": null,
      "outputs": [
        {
          "output_type": "stream",
          "name": "stderr",
          "text": [
            "<ipython-input-51-b46642684d08>:1: UserWarning: `input_shape` is undefined or non-square, or `rows` is not in [96, 128, 160, 192, 224]. Weights for input shape (224, 224) will be loaded as the default.\n",
            "  base_model = tf.keras.applications.MobileNetV2(input_shape=(100, 150, 3), include_top=False, weights='imagenet')\n"
          ]
        }
      ]
    },
    {
      "cell_type": "code",
      "source": [
        "loss, accuracy = model.evaluate(validation_generator)\n",
        "print(f\"Validation Accuracy: {accuracy:.4f}, Loss: {loss:.4f}\")\n"
      ],
      "metadata": {
        "colab": {
          "base_uri": "https://localhost:8080/"
        },
        "id": "FJXOjyzjrUMa",
        "outputId": "c9ad3292-2e23-42c0-e27b-10d0e178b9c3"
      },
      "execution_count": null,
      "outputs": [
        {
          "output_type": "stream",
          "name": "stdout",
          "text": [
            "\u001b[1m8/8\u001b[0m \u001b[32m━━━━━━━━━━━━━━━━━━━━\u001b[0m\u001b[37m\u001b[0m \u001b[1m7s\u001b[0m 537ms/step - accuracy: 0.6182 - loss: 0.6960\n",
            "Validation Accuracy: 0.6076, Loss: 0.7098\n"
          ]
        }
      ]
    },
    {
      "cell_type": "code",
      "source": [
        "early_stopping = EarlyStopping(monitor='val_loss', patience=5, restore_best_weights=True)\n",
        "reduce_lr = ReduceLROnPlateau(monitor='val_loss', factor=0.5, patience=3, min_lr=1e-6)\n"
      ],
      "metadata": {
        "id": "lVEWZV4SrJhC"
      },
      "execution_count": null,
      "outputs": []
    },
    {
      "cell_type": "code",
      "source": [
        "def predict_image(img_path):\n",
        "    img = image.load_img(img_path, target_size=(IMG_HEIGHT, IMG_WIDTH))\n",
        "    plt.imshow(img)\n",
        "    plt.axis('off')\n",
        "    plt.show()\n",
        "\n",
        "    img_array = image.img_to_array(img) / 255.0\n",
        "    img_array = np.expand_dims(img_array, axis=0)\n",
        "    prediction = model.predict(img_array)\n",
        "\n",
        "    if prediction[0] > 0.5:\n",
        "        print(\"Prediksi: Sehat\")\n",
        "    else:\n",
        "        print(\"Prediksi: Diabetes\")\n"
      ],
      "metadata": {
        "id": "bjtkKDCbrNVE"
      },
      "execution_count": null,
      "outputs": []
    }
  ],
  "metadata": {
    "colab": {
      "provenance": [],
      "authorship_tag": "ABX9TyPP/WDM4Lh19e1SYb6+Uv+N",
      "include_colab_link": true
    },
    "kernelspec": {
      "display_name": "Python 3",
      "name": "python3"
    },
    "language_info": {
      "name": "python"
    }
  },
  "nbformat": 4,
  "nbformat_minor": 0
}